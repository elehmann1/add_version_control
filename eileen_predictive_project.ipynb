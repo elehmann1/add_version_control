{
  "nbformat": 4,
  "nbformat_minor": 0,
  "metadata": {
    "colab": {
      "name": "predictive_project.ipynb",
      "provenance": [],
      "collapsed_sections": [],
      "include_colab_link": true
    },
    "kernelspec": {
      "name": "ir",
      "display_name": "R"
    },
    "language_info": {
      "name": "R"
    }
  },
  "cells": [
    {
      "cell_type": "markdown",
      "metadata": {
        "id": "view-in-github",
        "colab_type": "text"
      },
      "source": [
        "<a href=\"https://colab.research.google.com/github/elehmann1/add_version_control/blob/master/eileen_predictive_project.ipynb\" target=\"_parent\"><img src=\"https://colab.research.google.com/assets/colab-badge.svg\" alt=\"Open In Colab\"/></a>"
      ]
    },
    {
      "cell_type": "code",
      "execution_count": null,
      "metadata": {
        "id": "tJsmFrETIzc1"
      },
      "outputs": [],
      "source": [
        "library(tidyverse)"
      ]
    },
    {
      "cell_type": "code",
      "source": [
        "library(readxl)"
      ],
      "metadata": {
        "id": "rOQJJ0tpJgCd"
      },
      "execution_count": null,
      "outputs": []
    },
    {
      "cell_type": "code",
      "source": [
        "# find the tabs in the excel\n",
        "excel_sheets(\"/content/enterprise_project_training.xlsx\")"
      ],
      "metadata": {
        "colab": {
          "base_uri": "https://localhost:8080/",
          "height": 34
        },
        "id": "5Big_y-UJ9Gl",
        "outputId": "8790842c-ea67-4e15-9af7-cdb94f836678"
      },
      "execution_count": null,
      "outputs": [
        {
          "output_type": "display_data",
          "data": {
            "text/plain": [
              "[1] \"Profile_data\"    \"Assignment_data\" \"Completion_data\""
            ],
            "text/latex": "\\begin{enumerate*}\n\\item 'Profile\\_data'\n\\item 'Assignment\\_data'\n\\item 'Completion\\_data'\n\\end{enumerate*}\n",
            "text/markdown": "1. 'Profile_data'\n2. 'Assignment_data'\n3. 'Completion_data'\n\n\n",
            "text/html": [
              "<style>\n",
              ".list-inline {list-style: none; margin:0; padding: 0}\n",
              ".list-inline>li {display: inline-block}\n",
              ".list-inline>li:not(:last-child)::after {content: \"\\00b7\"; padding: 0 .5ex}\n",
              "</style>\n",
              "<ol class=list-inline><li>'Profile_data'</li><li>'Assignment_data'</li><li>'Completion_data'</li></ol>\n"
            ]
          },
          "metadata": {}
        }
      ]
    },
    {
      "cell_type": "code",
      "source": [
        "# load the data\n",
        "profile <- read_xlsx(\"/content/enterprise_project_training.xlsx\", sheet=1)\n",
        "assignment <- read_xlsx(\"/content/enterprise_project_training.xlsx\", sheet=2)\n",
        "completion <- read_xlsx(\"/content/enterprise_project_training.xlsx\", sheet=3)"
      ],
      "metadata": {
        "id": "GaD4HwydJp_g"
      },
      "execution_count": null,
      "outputs": []
    },
    {
      "cell_type": "code",
      "source": [
        "# quick look at \"profile\" dataset\n",
        "head(profile, 3)"
      ],
      "metadata": {
        "colab": {
          "base_uri": "https://localhost:8080/",
          "height": 331
        },
        "id": "3WcNMdYYKIqe",
        "outputId": "79615bc5-286d-41c3-e592-69643ad18ff7"
      },
      "execution_count": null,
      "outputs": [
        {
          "output_type": "display_data",
          "data": {
            "text/plain": [
              "  Division            Department ID                                     \n",
              "1 Veterinary Medicine Veterinary Medicine | Veterinary Clinical Sciences\n",
              "2 Veterinary Medicine Veterinary Medicine | Veterinary Clinical Sciences\n",
              "3 Veterinary Medicine Veterinary Medicine | Veterinary Clinical Sciences\n",
              "  Postion Cost Center - ID Column1 Organization Type\n",
              "1 CC10587                  1       NA               \n",
              "2 CC10587                  1       NA               \n",
              "3 CC10587                  1       NA               \n",
              "  Organization                                                                         \n",
              "1 AWD-103891: C161R-US-17-193: Safety and proof of mechanism of 02/01/2018 (version 0) \n",
              "2 AWD-107647: Development and characterization of the porcine an 11/14/2019 (version 0)\n",
              "3 AWD-109135: Ohio's strategic prevention framework for prescrip 09/01/2020 (version 0)\n",
              "  Role                           \n",
              "1 Multiple Principal Investigator\n",
              "2 Multiple Principal Investigator\n",
              "3 Multiple Principal Investigator"
            ],
            "text/latex": "A tibble: 3 × 7\n\\begin{tabular}{lllllll}\n Division & Department ID & Postion Cost Center - ID & Column1 & Organization Type & Organization & Role\\\\\n <chr> & <chr> & <chr> & <dbl> & <chr> & <chr> & <chr>\\\\\n\\hline\n\t Veterinary Medicine & Veterinary Medicine \\textbar{} Veterinary Clinical Sciences & CC10587 & 1 & NA & AWD-103891: C161R-US-17-193: Safety and proof of mechanism of 02/01/2018 (version 0)  & Multiple Principal Investigator\\\\\n\t Veterinary Medicine & Veterinary Medicine \\textbar{} Veterinary Clinical Sciences & CC10587 & 1 & NA & AWD-107647: Development and characterization of the porcine an 11/14/2019 (version 0) & Multiple Principal Investigator\\\\\n\t Veterinary Medicine & Veterinary Medicine \\textbar{} Veterinary Clinical Sciences & CC10587 & 1 & NA & AWD-109135: Ohio's strategic prevention framework for prescrip 09/01/2020 (version 0) & Multiple Principal Investigator\\\\\n\\end{tabular}\n",
            "text/markdown": "\nA tibble: 3 × 7\n\n| Division &lt;chr&gt; | Department ID &lt;chr&gt; | Postion Cost Center - ID &lt;chr&gt; | Column1 &lt;dbl&gt; | Organization Type &lt;chr&gt; | Organization &lt;chr&gt; | Role &lt;chr&gt; |\n|---|---|---|---|---|---|---|\n| Veterinary Medicine | Veterinary Medicine | Veterinary Clinical Sciences | CC10587 | 1 | NA | AWD-103891: C161R-US-17-193: Safety and proof of mechanism of 02/01/2018 (version 0)  | Multiple Principal Investigator |\n| Veterinary Medicine | Veterinary Medicine | Veterinary Clinical Sciences | CC10587 | 1 | NA | AWD-107647: Development and characterization of the porcine an 11/14/2019 (version 0) | Multiple Principal Investigator |\n| Veterinary Medicine | Veterinary Medicine | Veterinary Clinical Sciences | CC10587 | 1 | NA | AWD-109135: Ohio's strategic prevention framework for prescrip 09/01/2020 (version 0) | Multiple Principal Investigator |\n\n",
            "text/html": [
              "<table class=\"dataframe\">\n",
              "<caption>A tibble: 3 × 7</caption>\n",
              "<thead>\n",
              "\t<tr><th scope=col>Division</th><th scope=col>Department ID</th><th scope=col>Postion Cost Center - ID</th><th scope=col>Column1</th><th scope=col>Organization Type</th><th scope=col>Organization</th><th scope=col>Role</th></tr>\n",
              "\t<tr><th scope=col>&lt;chr&gt;</th><th scope=col>&lt;chr&gt;</th><th scope=col>&lt;chr&gt;</th><th scope=col>&lt;dbl&gt;</th><th scope=col>&lt;chr&gt;</th><th scope=col>&lt;chr&gt;</th><th scope=col>&lt;chr&gt;</th></tr>\n",
              "</thead>\n",
              "<tbody>\n",
              "\t<tr><td>Veterinary Medicine</td><td>Veterinary Medicine | Veterinary Clinical Sciences</td><td>CC10587</td><td>1</td><td>NA</td><td>AWD-103891: C161R-US-17-193: Safety and proof of mechanism of 02/01/2018 (version 0) </td><td>Multiple Principal Investigator</td></tr>\n",
              "\t<tr><td>Veterinary Medicine</td><td>Veterinary Medicine | Veterinary Clinical Sciences</td><td>CC10587</td><td>1</td><td>NA</td><td>AWD-107647: Development and characterization of the porcine an 11/14/2019 (version 0)</td><td>Multiple Principal Investigator</td></tr>\n",
              "\t<tr><td>Veterinary Medicine</td><td>Veterinary Medicine | Veterinary Clinical Sciences</td><td>CC10587</td><td>1</td><td>NA</td><td>AWD-109135: Ohio's strategic prevention framework for prescrip 09/01/2020 (version 0)</td><td>Multiple Principal Investigator</td></tr>\n",
              "</tbody>\n",
              "</table>\n"
            ]
          },
          "metadata": {}
        }
      ]
    },
    {
      "cell_type": "code",
      "source": [
        "# quick look at \"assignment\" dataset\n",
        "head(assignment, 3)"
      ],
      "metadata": {
        "colab": {
          "base_uri": "https://localhost:8080/",
          "height": 192
        },
        "id": "eahHaZ30KcSU",
        "outputId": "75539893-0a00-48bc-ba1d-fec954a2b9c7"
      },
      "execution_count": null,
      "outputs": [
        {
          "output_type": "display_data",
          "data": {
            "text/plain": [
              "  Individual ID Course Title                              Requirement\n",
              "1 1             Costing Allocations in Workday            Recommended\n",
              "2 1             Enterprise Reporting Basics               Required   \n",
              "3 1             Payroll Accounting Adjustments in Workday Recommended"
            ],
            "text/latex": "A tibble: 3 × 3\n\\begin{tabular}{lll}\n Individual ID & Course Title & Requirement\\\\\n <dbl> & <chr> & <chr>\\\\\n\\hline\n\t 1 & Costing Allocations in Workday            & Recommended\\\\\n\t 1 & Enterprise Reporting Basics               & Required   \\\\\n\t 1 & Payroll Accounting Adjustments in Workday & Recommended\\\\\n\\end{tabular}\n",
            "text/markdown": "\nA tibble: 3 × 3\n\n| Individual ID &lt;dbl&gt; | Course Title &lt;chr&gt; | Requirement &lt;chr&gt; |\n|---|---|---|\n| 1 | Costing Allocations in Workday            | Recommended |\n| 1 | Enterprise Reporting Basics               | Required    |\n| 1 | Payroll Accounting Adjustments in Workday | Recommended |\n\n",
            "text/html": [
              "<table class=\"dataframe\">\n",
              "<caption>A tibble: 3 × 3</caption>\n",
              "<thead>\n",
              "\t<tr><th scope=col>Individual ID</th><th scope=col>Course Title</th><th scope=col>Requirement</th></tr>\n",
              "\t<tr><th scope=col>&lt;dbl&gt;</th><th scope=col>&lt;chr&gt;</th><th scope=col>&lt;chr&gt;</th></tr>\n",
              "</thead>\n",
              "<tbody>\n",
              "\t<tr><td>1</td><td>Costing Allocations in Workday           </td><td>Recommended</td></tr>\n",
              "\t<tr><td>1</td><td>Enterprise Reporting Basics              </td><td>Required   </td></tr>\n",
              "\t<tr><td>1</td><td>Payroll Accounting Adjustments in Workday</td><td>Recommended</td></tr>\n",
              "</tbody>\n",
              "</table>\n"
            ]
          },
          "metadata": {}
        }
      ]
    },
    {
      "cell_type": "code",
      "source": [
        "# quick look at \"completion\" dataset\n",
        "head(completion, 3)"
      ],
      "metadata": {
        "colab": {
          "base_uri": "https://localhost:8080/",
          "height": 262
        },
        "id": "_FkjuRGjKkm8",
        "outputId": "052fcbe2-e90b-46e1-a4ac-92d2b0edf6e7"
      },
      "execution_count": null,
      "outputs": [
        {
          "output_type": "display_data",
          "data": {
            "text/plain": [
              "  Individual ID Division           \n",
              "1 1             Veterinary Medicine\n",
              "2 1             Veterinary Medicine\n",
              "3 2             Human Resources    \n",
              "  Department ID                                     \n",
              "1 Veterinary Medicine | Veterinary Clinical Sciences\n",
              "2 Veterinary Medicine | Veterinary Clinical Sciences\n",
              "3 Human Resources | Strategic Initiatives           \n",
              "  Training Title                                                     \n",
              "1 Workday: The Grant Management Dashboard for Principal Investigators\n",
              "2 Workday: The Grant Management Dashboard for Principal Investigators\n",
              "3 Enterprise Reporting Basics                                        \n",
              "  Training Type Transcript Status\n",
              "1 Event         Registered       \n",
              "2 Event         Registered       \n",
              "3 Online Class  Completed        "
            ],
            "text/latex": "A tibble: 3 × 6\n\\begin{tabular}{llllll}\n Individual ID & Division & Department ID & Training Title & Training Type & Transcript Status\\\\\n <dbl> & <chr> & <chr> & <chr> & <chr> & <chr>\\\\\n\\hline\n\t 1 & Veterinary Medicine & Veterinary Medicine \\textbar{} Veterinary Clinical Sciences & Workday: The Grant Management Dashboard for Principal Investigators & Event        & Registered\\\\\n\t 1 & Veterinary Medicine & Veterinary Medicine \\textbar{} Veterinary Clinical Sciences & Workday: The Grant Management Dashboard for Principal Investigators & Event        & Registered\\\\\n\t 2 & Human Resources     & Human Resources \\textbar{} Strategic Initiatives            & Enterprise Reporting Basics                                         & Online Class & Completed \\\\\n\\end{tabular}\n",
            "text/markdown": "\nA tibble: 3 × 6\n\n| Individual ID &lt;dbl&gt; | Division &lt;chr&gt; | Department ID &lt;chr&gt; | Training Title &lt;chr&gt; | Training Type &lt;chr&gt; | Transcript Status &lt;chr&gt; |\n|---|---|---|---|---|---|\n| 1 | Veterinary Medicine | Veterinary Medicine | Veterinary Clinical Sciences | Workday: The Grant Management Dashboard for Principal Investigators | Event        | Registered |\n| 1 | Veterinary Medicine | Veterinary Medicine | Veterinary Clinical Sciences | Workday: The Grant Management Dashboard for Principal Investigators | Event        | Registered |\n| 2 | Human Resources     | Human Resources | Strategic Initiatives            | Enterprise Reporting Basics                                         | Online Class | Completed  |\n\n",
            "text/html": [
              "<table class=\"dataframe\">\n",
              "<caption>A tibble: 3 × 6</caption>\n",
              "<thead>\n",
              "\t<tr><th scope=col>Individual ID</th><th scope=col>Division</th><th scope=col>Department ID</th><th scope=col>Training Title</th><th scope=col>Training Type</th><th scope=col>Transcript Status</th></tr>\n",
              "\t<tr><th scope=col>&lt;dbl&gt;</th><th scope=col>&lt;chr&gt;</th><th scope=col>&lt;chr&gt;</th><th scope=col>&lt;chr&gt;</th><th scope=col>&lt;chr&gt;</th><th scope=col>&lt;chr&gt;</th></tr>\n",
              "</thead>\n",
              "<tbody>\n",
              "\t<tr><td>1</td><td>Veterinary Medicine</td><td>Veterinary Medicine | Veterinary Clinical Sciences</td><td>Workday: The Grant Management Dashboard for Principal Investigators</td><td>Event       </td><td>Registered</td></tr>\n",
              "\t<tr><td>1</td><td>Veterinary Medicine</td><td>Veterinary Medicine | Veterinary Clinical Sciences</td><td>Workday: The Grant Management Dashboard for Principal Investigators</td><td>Event       </td><td>Registered</td></tr>\n",
              "\t<tr><td>2</td><td>Human Resources    </td><td>Human Resources | Strategic Initiatives           </td><td>Enterprise Reporting Basics                                        </td><td>Online Class</td><td>Completed </td></tr>\n",
              "</tbody>\n",
              "</table>\n"
            ]
          },
          "metadata": {}
        }
      ]
    },
    {
      "cell_type": "code",
      "source": [
        "# quick look at the structure of \"profile\" dataset\n",
        "str(profile)"
      ],
      "metadata": {
        "colab": {
          "base_uri": "https://localhost:8080/"
        },
        "id": "jenkF1fIKn0a",
        "outputId": "a23cc574-7fb5-442b-a2b3-e7e214678ae1"
      },
      "execution_count": null,
      "outputs": [
        {
          "output_type": "stream",
          "name": "stdout",
          "text": [
            "tibble [197,438 × 7] (S3: tbl_df/tbl/data.frame)\n",
            " $ Division                : chr [1:197438] \"Veterinary Medicine\" \"Veterinary Medicine\" \"Veterinary Medicine\" \"Veterinary Medicine\" ...\n",
            " $ Department ID           : chr [1:197438] \"Veterinary Medicine | Veterinary Clinical Sciences\" \"Veterinary Medicine | Veterinary Clinical Sciences\" \"Veterinary Medicine | Veterinary Clinical Sciences\" \"Veterinary Medicine | Veterinary Clinical Sciences\" ...\n",
            " $ Postion Cost Center - ID: chr [1:197438] \"CC10587\" \"CC10587\" \"CC10587\" \"CC10587\" ...\n",
            " $ Column1                 : num [1:197438] 1 1 1 1 1 1 1 1 1 1 ...\n",
            " $ Organization Type       : chr [1:197438] NA NA NA NA ...\n",
            " $ Organization            : chr [1:197438] \"AWD-103891: C161R-US-17-193: Safety and proof of mechanism of 02/01/2018 (version 0)\" \"AWD-107647: Development and characterization of the porcine an 11/14/2019 (version 0)\" \"AWD-109135: Ohio's strategic prevention framework for prescrip 09/01/2020 (version 0)\" \"GR108018 C161R-US-17-193: Safety and proof of mechanism of ZTS-00512501 on the disease progression of metabolic\"| __truncated__ ...\n",
            " $ Role                    : chr [1:197438] \"Multiple Principal Investigator\" \"Multiple Principal Investigator\" \"Multiple Principal Investigator\" \"CO-Principal Investigator\" ...\n"
          ]
        }
      ]
    },
    {
      "cell_type": "code",
      "source": [
        "# quick look at the missing values of \"profile\" dataset\n",
        "colSums(is.na(profile))"
      ],
      "metadata": {
        "colab": {
          "base_uri": "https://localhost:8080/",
          "height": 52
        },
        "id": "72McrFIk1puh",
        "outputId": "6aefbca7-2920-42ec-ea10-7534ae3d714c"
      },
      "execution_count": null,
      "outputs": [
        {
          "output_type": "display_data",
          "data": {
            "text/plain": [
              "                Division            Department ID Postion Cost Center - ID \n",
              "                       0                      283                      281 \n",
              "                 Column1        Organization Type             Organization \n",
              "                       0                    85415                      730 \n",
              "                    Role \n",
              "                       0 "
            ],
            "text/latex": "\\begin{description*}\n\\item[Division] 0\n\\item[Department ID] 283\n\\item[Postion Cost Center - ID] 281\n\\item[Column1] 0\n\\item[Organization Type] 85415\n\\item[Organization] 730\n\\item[Role] 0\n\\end{description*}\n",
            "text/markdown": "Division\n:   0Department ID\n:   283Postion Cost Center - ID\n:   281Column1\n:   0Organization Type\n:   85415Organization\n:   730Role\n:   0\n\n",
            "text/html": [
              "<style>\n",
              ".dl-inline {width: auto; margin:0; padding: 0}\n",
              ".dl-inline>dt, .dl-inline>dd {float: none; width: auto; display: inline-block}\n",
              ".dl-inline>dt::after {content: \":\\0020\"; padding-right: .5ex}\n",
              ".dl-inline>dt:not(:first-of-type) {padding-left: .5ex}\n",
              "</style><dl class=dl-inline><dt>Division</dt><dd>0</dd><dt>Department ID</dt><dd>283</dd><dt>Postion Cost Center - ID</dt><dd>281</dd><dt>Column1</dt><dd>0</dd><dt>Organization Type</dt><dd>85415</dd><dt>Organization</dt><dd>730</dd><dt>Role</dt><dd>0</dd></dl>\n"
            ]
          },
          "metadata": {}
        }
      ]
    },
    {
      "cell_type": "code",
      "source": [
        "# quick look at the structure of \"assignment\" dataset\n",
        "str(assignment)"
      ],
      "metadata": {
        "colab": {
          "base_uri": "https://localhost:8080/"
        },
        "id": "VM7PGFjgKugL",
        "outputId": "1a94ec7d-b3fa-43c5-e470-b0d90285cb00"
      },
      "execution_count": null,
      "outputs": [
        {
          "output_type": "stream",
          "name": "stdout",
          "text": [
            "tibble [110,269 × 3] (S3: tbl_df/tbl/data.frame)\n",
            " $ Individual ID: num [1:110269] 1 1 1 1 1 1 1 1 1 2 ...\n",
            " $ Course Title : chr [1:110269] \"Costing Allocations in Workday\" \"Enterprise Reporting Basics\" \"Payroll Accounting Adjustments in Workday\" \"Workday Core Concepts\" ...\n",
            " $ Requirement  : chr [1:110269] \"Recommended\" \"Required\" \"Recommended\" \"Recommended\" ...\n"
          ]
        }
      ]
    },
    {
      "cell_type": "code",
      "source": [
        "# quick look at the missing values of \"assignment\" dataset\n",
        "colSums(is.na(assignment))"
      ],
      "metadata": {
        "colab": {
          "base_uri": "https://localhost:8080/",
          "height": 34
        },
        "id": "jFY5MNA55w5F",
        "outputId": "7170e7db-cd9c-442c-fab7-28475025603a"
      },
      "execution_count": null,
      "outputs": [
        {
          "output_type": "display_data",
          "data": {
            "text/plain": [
              "Individual ID  Course Title   Requirement \n",
              "            0             0             0 "
            ],
            "text/latex": "\\begin{description*}\n\\item[Individual ID] 0\n\\item[Course Title] 0\n\\item[Requirement] 0\n\\end{description*}\n",
            "text/markdown": "Individual ID\n:   0Course Title\n:   0Requirement\n:   0\n\n",
            "text/html": [
              "<style>\n",
              ".dl-inline {width: auto; margin:0; padding: 0}\n",
              ".dl-inline>dt, .dl-inline>dd {float: none; width: auto; display: inline-block}\n",
              ".dl-inline>dt::after {content: \":\\0020\"; padding-right: .5ex}\n",
              ".dl-inline>dt:not(:first-of-type) {padding-left: .5ex}\n",
              "</style><dl class=dl-inline><dt>Individual ID</dt><dd>0</dd><dt>Course Title</dt><dd>0</dd><dt>Requirement</dt><dd>0</dd></dl>\n"
            ]
          },
          "metadata": {}
        }
      ]
    },
    {
      "cell_type": "code",
      "source": [
        "# quick look at the structure of \"completion\" dataset\n",
        "str(completion)"
      ],
      "metadata": {
        "colab": {
          "base_uri": "https://localhost:8080/"
        },
        "id": "-v5exuIuKxj2",
        "outputId": "53e537ef-f008-43fc-845a-c70677e612c7"
      },
      "execution_count": null,
      "outputs": [
        {
          "output_type": "stream",
          "name": "stdout",
          "text": [
            "tibble [94,586 × 6] (S3: tbl_df/tbl/data.frame)\n",
            " $ Individual ID    : num [1:94586] 1 1 2 2 2 2 2 3 3 3 ...\n",
            " $ Division         : chr [1:94586] \"Veterinary Medicine\" \"Veterinary Medicine\" \"Human Resources\" \"Human Resources\" ...\n",
            " $ Department ID    : chr [1:94586] \"Veterinary Medicine | Veterinary Clinical Sciences\" \"Veterinary Medicine | Veterinary Clinical Sciences\" \"Human Resources | Strategic Initiatives\" \"Human Resources | Strategic Initiatives\" ...\n",
            " $ Training Title   : chr [1:94586] \"Workday: The Grant Management Dashboard for Principal Investigators\" \"Workday: The Grant Management Dashboard for Principal Investigators\" \"Enterprise Reporting Basics\" \"HR Consultants: Campus Manager Role in Workday\" ...\n",
            " $ Training Type    : chr [1:94586] \"Event\" \"Event\" \"Online Class\" \"Curriculum\" ...\n",
            " $ Transcript Status: chr [1:94586] \"Registered\" \"Registered\" \"Completed\" \"Complete\" ...\n"
          ]
        }
      ]
    },
    {
      "cell_type": "code",
      "source": [
        "# quick look at the missing values of \"completion\" dataset\n",
        "colSums(is.na(completion))"
      ],
      "metadata": {
        "colab": {
          "base_uri": "https://localhost:8080/",
          "height": 34
        },
        "id": "g9eItBJd580J",
        "outputId": "afa8aba8-6725-4fb4-ba52-90bfe1b27f6e"
      },
      "execution_count": null,
      "outputs": [
        {
          "output_type": "display_data",
          "data": {
            "text/plain": [
              "    Individual ID          Division     Department ID    Training Title \n",
              "                0                 0               156                 0 \n",
              "    Training Type Transcript Status \n",
              "                0                 0 "
            ],
            "text/latex": "\\begin{description*}\n\\item[Individual ID] 0\n\\item[Division] 0\n\\item[Department ID] 156\n\\item[Training Title] 0\n\\item[Training Type] 0\n\\item[Transcript Status] 0\n\\end{description*}\n",
            "text/markdown": "Individual ID\n:   0Division\n:   0Department ID\n:   156Training Title\n:   0Training Type\n:   0Transcript Status\n:   0\n\n",
            "text/html": [
              "<style>\n",
              ".dl-inline {width: auto; margin:0; padding: 0}\n",
              ".dl-inline>dt, .dl-inline>dd {float: none; width: auto; display: inline-block}\n",
              ".dl-inline>dt::after {content: \":\\0020\"; padding-right: .5ex}\n",
              ".dl-inline>dt:not(:first-of-type) {padding-left: .5ex}\n",
              "</style><dl class=dl-inline><dt>Individual ID</dt><dd>0</dd><dt>Division</dt><dd>0</dd><dt>Department ID</dt><dd>156</dd><dt>Training Title</dt><dd>0</dd><dt>Training Type</dt><dd>0</dd><dt>Transcript Status</dt><dd>0</dd></dl>\n"
            ]
          },
          "metadata": {}
        }
      ]
    },
    {
      "cell_type": "code",
      "source": [
        "# extract column names\n",
        "colnames(profile)\n",
        "colnames(assignment)\n",
        "colnames(completion)\n",
        "\n",
        "# preset the naming conventions\n",
        "profile_old_names <- c('Division', 'Department ID', 'Postion Cost Center - ID', 'Column1', 'Organization Type', 'Organization', 'Role')\n",
        "profile_new_names <- c('division', 'dep_id', 'cost_id', 'id', 'org_type', 'org', 'role')\n",
        "assignment_old_names <- c('Individual ID','Course Title','Requirement')\n",
        "assignment_new_names <- c('id','course_title','requirement')\n",
        "completion_old_names <- c('Individual ID', 'Division', 'Department ID', 'Training Title', 'Training Type', 'Transcript Status')\n",
        "completion_new_names <- c('id', 'division_completion', 'dep_id_completion', 'training_title', 'training_type', 'status')"
      ],
      "metadata": {
        "colab": {
          "base_uri": "https://localhost:8080/",
          "height": 69
        },
        "id": "1SNyuIlSMlN9",
        "outputId": "f17c954f-ef2f-404d-b379-3f37a6131881"
      },
      "execution_count": null,
      "outputs": [
        {
          "output_type": "display_data",
          "data": {
            "text/plain": [
              "[1] \"Division\"                 \"Department ID\"           \n",
              "[3] \"Postion Cost Center - ID\" \"Column1\"                 \n",
              "[5] \"Organization Type\"        \"Organization\"            \n",
              "[7] \"Role\"                    "
            ],
            "text/latex": "\\begin{enumerate*}\n\\item 'Division'\n\\item 'Department ID'\n\\item 'Postion Cost Center - ID'\n\\item 'Column1'\n\\item 'Organization Type'\n\\item 'Organization'\n\\item 'Role'\n\\end{enumerate*}\n",
            "text/markdown": "1. 'Division'\n2. 'Department ID'\n3. 'Postion Cost Center - ID'\n4. 'Column1'\n5. 'Organization Type'\n6. 'Organization'\n7. 'Role'\n\n\n",
            "text/html": [
              "<style>\n",
              ".list-inline {list-style: none; margin:0; padding: 0}\n",
              ".list-inline>li {display: inline-block}\n",
              ".list-inline>li:not(:last-child)::after {content: \"\\00b7\"; padding: 0 .5ex}\n",
              "</style>\n",
              "<ol class=list-inline><li>'Division'</li><li>'Department ID'</li><li>'Postion Cost Center - ID'</li><li>'Column1'</li><li>'Organization Type'</li><li>'Organization'</li><li>'Role'</li></ol>\n"
            ]
          },
          "metadata": {}
        },
        {
          "output_type": "display_data",
          "data": {
            "text/plain": [
              "[1] \"Individual ID\" \"Course Title\"  \"Requirement\"  "
            ],
            "text/latex": "\\begin{enumerate*}\n\\item 'Individual ID'\n\\item 'Course Title'\n\\item 'Requirement'\n\\end{enumerate*}\n",
            "text/markdown": "1. 'Individual ID'\n2. 'Course Title'\n3. 'Requirement'\n\n\n",
            "text/html": [
              "<style>\n",
              ".list-inline {list-style: none; margin:0; padding: 0}\n",
              ".list-inline>li {display: inline-block}\n",
              ".list-inline>li:not(:last-child)::after {content: \"\\00b7\"; padding: 0 .5ex}\n",
              "</style>\n",
              "<ol class=list-inline><li>'Individual ID'</li><li>'Course Title'</li><li>'Requirement'</li></ol>\n"
            ]
          },
          "metadata": {}
        },
        {
          "output_type": "display_data",
          "data": {
            "text/plain": [
              "[1] \"Individual ID\"     \"Division\"          \"Department ID\"    \n",
              "[4] \"Training Title\"    \"Training Type\"     \"Transcript Status\""
            ],
            "text/latex": "\\begin{enumerate*}\n\\item 'Individual ID'\n\\item 'Division'\n\\item 'Department ID'\n\\item 'Training Title'\n\\item 'Training Type'\n\\item 'Transcript Status'\n\\end{enumerate*}\n",
            "text/markdown": "1. 'Individual ID'\n2. 'Division'\n3. 'Department ID'\n4. 'Training Title'\n5. 'Training Type'\n6. 'Transcript Status'\n\n\n",
            "text/html": [
              "<style>\n",
              ".list-inline {list-style: none; margin:0; padding: 0}\n",
              ".list-inline>li {display: inline-block}\n",
              ".list-inline>li:not(:last-child)::after {content: \"\\00b7\"; padding: 0 .5ex}\n",
              "</style>\n",
              "<ol class=list-inline><li>'Individual ID'</li><li>'Division'</li><li>'Department ID'</li><li>'Training Title'</li><li>'Training Type'</li><li>'Transcript Status'</li></ol>\n"
            ]
          },
          "metadata": {}
        }
      ]
    },
    {
      "cell_type": "code",
      "source": [
        "# renames the columns for easier access\n",
        "profile_renamed <- rename_at(profile, profile_old_names, ~ profile_new_names)\n",
        "assignment_renamed <- rename_at(assignment, assignment_old_names, ~ assignment_new_names)\n",
        "completion_renamed <- rename_at(completion, completion_old_names, ~ completion_new_names)"
      ],
      "metadata": {
        "id": "ezT5ADdoQCZX"
      },
      "execution_count": null,
      "outputs": []
    },
    {
      "cell_type": "code",
      "source": [
        "# check that they are correctly renamed\n",
        "str(profile_renamed)\n",
        "str(assignment_renamed)\n",
        "str(completion_renamed)"
      ],
      "metadata": {
        "colab": {
          "base_uri": "https://localhost:8080/"
        },
        "id": "VotmDfJGRQ86",
        "outputId": "c9ab2c9c-8ebb-4ab6-b781-20690cb1b2ad"
      },
      "execution_count": null,
      "outputs": [
        {
          "output_type": "stream",
          "name": "stdout",
          "text": [
            "tibble [197,438 × 7] (S3: tbl_df/tbl/data.frame)\n",
            " $ division: chr [1:197438] \"Veterinary Medicine\" \"Veterinary Medicine\" \"Veterinary Medicine\" \"Veterinary Medicine\" ...\n",
            " $ dep_id  : chr [1:197438] \"Veterinary Medicine | Veterinary Clinical Sciences\" \"Veterinary Medicine | Veterinary Clinical Sciences\" \"Veterinary Medicine | Veterinary Clinical Sciences\" \"Veterinary Medicine | Veterinary Clinical Sciences\" ...\n",
            " $ cost_id : chr [1:197438] \"CC10587\" \"CC10587\" \"CC10587\" \"CC10587\" ...\n",
            " $ id      : num [1:197438] 1 1 1 1 1 1 1 1 1 1 ...\n",
            " $ org_type: chr [1:197438] NA NA NA NA ...\n",
            " $ org     : chr [1:197438] \"AWD-103891: C161R-US-17-193: Safety and proof of mechanism of 02/01/2018 (version 0)\" \"AWD-107647: Development and characterization of the porcine an 11/14/2019 (version 0)\" \"AWD-109135: Ohio's strategic prevention framework for prescrip 09/01/2020 (version 0)\" \"GR108018 C161R-US-17-193: Safety and proof of mechanism of ZTS-00512501 on the disease progression of metabolic\"| __truncated__ ...\n",
            " $ role    : chr [1:197438] \"Multiple Principal Investigator\" \"Multiple Principal Investigator\" \"Multiple Principal Investigator\" \"CO-Principal Investigator\" ...\n",
            "tibble [110,269 × 3] (S3: tbl_df/tbl/data.frame)\n",
            " $ id          : num [1:110269] 1 1 1 1 1 1 1 1 1 2 ...\n",
            " $ course_title: chr [1:110269] \"Costing Allocations in Workday\" \"Enterprise Reporting Basics\" \"Payroll Accounting Adjustments in Workday\" \"Workday Core Concepts\" ...\n",
            " $ requirement : chr [1:110269] \"Recommended\" \"Required\" \"Recommended\" \"Recommended\" ...\n",
            "tibble [94,586 × 6] (S3: tbl_df/tbl/data.frame)\n",
            " $ id                 : num [1:94586] 1 1 2 2 2 2 2 3 3 3 ...\n",
            " $ division_completion: chr [1:94586] \"Veterinary Medicine\" \"Veterinary Medicine\" \"Human Resources\" \"Human Resources\" ...\n",
            " $ dep_id_completion  : chr [1:94586] \"Veterinary Medicine | Veterinary Clinical Sciences\" \"Veterinary Medicine | Veterinary Clinical Sciences\" \"Human Resources | Strategic Initiatives\" \"Human Resources | Strategic Initiatives\" ...\n",
            " $ training_title     : chr [1:94586] \"Workday: The Grant Management Dashboard for Principal Investigators\" \"Workday: The Grant Management Dashboard for Principal Investigators\" \"Enterprise Reporting Basics\" \"HR Consultants: Campus Manager Role in Workday\" ...\n",
            " $ training_type      : chr [1:94586] \"Event\" \"Event\" \"Online Class\" \"Curriculum\" ...\n",
            " $ status             : chr [1:94586] \"Registered\" \"Registered\" \"Completed\" \"Complete\" ...\n"
          ]
        }
      ]
    },
    {
      "cell_type": "code",
      "source": [
        "# in the profile dataframe, find out how many rows there are for one id\n",
        "profile_renamed %>%\n",
        "group_by(id) %>%\n",
        "count() %>%\n",
        "arrange(desc(n)) %>%\n",
        "head(10)"
      ],
      "metadata": {
        "colab": {
          "base_uri": "https://localhost:8080/",
          "height": 429
        },
        "id": "nwoGXdnO7L-v",
        "outputId": "52f1c385-6500-4ac5-8163-5ff4bc5aad40"
      },
      "execution_count": null,
      "outputs": [
        {
          "output_type": "display_data",
          "data": {
            "text/plain": [
              "   id   n   \n",
              "1  9498 3049\n",
              "2  6772 2835\n",
              "3  2488 2813\n",
              "4  8801 2552\n",
              "5  3825 2222\n",
              "6   436 1577\n",
              "7    56 1446\n",
              "8  1359 1338\n",
              "9  3123  806\n",
              "10 1991  805"
            ],
            "text/latex": "A grouped\\_df: 10 × 2\n\\begin{tabular}{ll}\n id & n\\\\\n <dbl> & <int>\\\\\n\\hline\n\t 9498 & 3049\\\\\n\t 6772 & 2835\\\\\n\t 2488 & 2813\\\\\n\t 8801 & 2552\\\\\n\t 3825 & 2222\\\\\n\t  436 & 1577\\\\\n\t   56 & 1446\\\\\n\t 1359 & 1338\\\\\n\t 3123 &  806\\\\\n\t 1991 &  805\\\\\n\\end{tabular}\n",
            "text/markdown": "\nA grouped_df: 10 × 2\n\n| id &lt;dbl&gt; | n &lt;int&gt; |\n|---|---|\n| 9498 | 3049 |\n| 6772 | 2835 |\n| 2488 | 2813 |\n| 8801 | 2552 |\n| 3825 | 2222 |\n|  436 | 1577 |\n|   56 | 1446 |\n| 1359 | 1338 |\n| 3123 |  806 |\n| 1991 |  805 |\n\n",
            "text/html": [
              "<table class=\"dataframe\">\n",
              "<caption>A grouped_df: 10 × 2</caption>\n",
              "<thead>\n",
              "\t<tr><th scope=col>id</th><th scope=col>n</th></tr>\n",
              "\t<tr><th scope=col>&lt;dbl&gt;</th><th scope=col>&lt;int&gt;</th></tr>\n",
              "</thead>\n",
              "<tbody>\n",
              "\t<tr><td>9498</td><td>3049</td></tr>\n",
              "\t<tr><td>6772</td><td>2835</td></tr>\n",
              "\t<tr><td>2488</td><td>2813</td></tr>\n",
              "\t<tr><td>8801</td><td>2552</td></tr>\n",
              "\t<tr><td>3825</td><td>2222</td></tr>\n",
              "\t<tr><td> 436</td><td>1577</td></tr>\n",
              "\t<tr><td>  56</td><td>1446</td></tr>\n",
              "\t<tr><td>1359</td><td>1338</td></tr>\n",
              "\t<tr><td>3123</td><td> 806</td></tr>\n",
              "\t<tr><td>1991</td><td> 805</td></tr>\n",
              "</tbody>\n",
              "</table>\n"
            ]
          },
          "metadata": {}
        }
      ]
    },
    {
      "cell_type": "code",
      "source": [
        "# check what that top id looks like\n",
        "head(profile_renamed[profile_renamed$id == 9498, ])"
      ],
      "metadata": {
        "colab": {
          "base_uri": "https://localhost:8080/",
          "height": 512
        },
        "id": "ruyOBLL-8J25",
        "outputId": "043a2d2c-0d26-4775-8b5a-156d480acb09"
      },
      "execution_count": null,
      "outputs": [
        {
          "output_type": "display_data",
          "data": {
            "text/plain": [
              "  division         dep_id                                                \n",
              "1 Academic Affairs Research | Office of Sponsored Programs Administration\n",
              "2 Academic Affairs Research | Office of Sponsored Programs Administration\n",
              "3 Academic Affairs Research | Office of Sponsored Programs Administration\n",
              "4 Academic Affairs Research | Office of Sponsored Programs Administration\n",
              "5 Academic Affairs Research | Office of Sponsored Programs Administration\n",
              "6 Academic Affairs Research | Office of Sponsored Programs Administration\n",
              "  cost_id id   org_type             \n",
              "1 CC10982 9498 Company              \n",
              "2 CC10982 9498 Cost Center Hierarchy\n",
              "3 CC10982 9498 Company              \n",
              "4 CC10982 9498 NA                   \n",
              "5 CC10982 9498 NA                   \n",
              "6 CC10982 9498 NA                   \n",
              "  org                                                                                                                     \n",
              "1 The Ohio State University                                                                                               \n",
              "2 University and Affiliates CCH2                                                                                          \n",
              "3 The Ohio State University                                                                                               \n",
              "4 GR101020 17-ATP17-0177, observational constraints on cosmic ray driven galactic winds | 60061464                        \n",
              "5 GR101042 A cepheid distance to NGC 4051 | 60056200                                                                      \n",
              "6 GR101065 A new look at perspective: Novel insights into the function of first-person and third-person imagery | 60058766\n",
              "  role                        \n",
              "1 Award Contract Specialist   \n",
              "2 Grants Administrator Analyst\n",
              "3 Inventory Analyst           \n",
              "4 Grant SPO Manager OSP       \n",
              "5 Grant SPO Manager OSP       \n",
              "6 Grant SPO Manager OSP       "
            ],
            "text/latex": "A tibble: 6 × 7\n\\begin{tabular}{lllllll}\n division & dep\\_id & cost\\_id & id & org\\_type & org & role\\\\\n <chr> & <chr> & <chr> & <dbl> & <chr> & <chr> & <chr>\\\\\n\\hline\n\t Academic Affairs & Research \\textbar{} Office of Sponsored Programs Administration & CC10982 & 9498 & Company               & The Ohio State University                                                                                                & Award Contract Specialist   \\\\\n\t Academic Affairs & Research \\textbar{} Office of Sponsored Programs Administration & CC10982 & 9498 & Cost Center Hierarchy & University and Affiliates CCH2                                                                                           & Grants Administrator Analyst\\\\\n\t Academic Affairs & Research \\textbar{} Office of Sponsored Programs Administration & CC10982 & 9498 & Company               & The Ohio State University                                                                                                & Inventory Analyst           \\\\\n\t Academic Affairs & Research \\textbar{} Office of Sponsored Programs Administration & CC10982 & 9498 & NA                    & GR101020 17-ATP17-0177, observational constraints on cosmic ray driven galactic winds \\textbar{} 60061464                         & Grant SPO Manager OSP       \\\\\n\t Academic Affairs & Research \\textbar{} Office of Sponsored Programs Administration & CC10982 & 9498 & NA                    & GR101042 A cepheid distance to NGC 4051 \\textbar{} 60056200                                                                       & Grant SPO Manager OSP       \\\\\n\t Academic Affairs & Research \\textbar{} Office of Sponsored Programs Administration & CC10982 & 9498 & NA                    & GR101065 A new look at perspective: Novel insights into the function of first-person and third-person imagery \\textbar{} 60058766 & Grant SPO Manager OSP       \\\\\n\\end{tabular}\n",
            "text/markdown": "\nA tibble: 6 × 7\n\n| division &lt;chr&gt; | dep_id &lt;chr&gt; | cost_id &lt;chr&gt; | id &lt;dbl&gt; | org_type &lt;chr&gt; | org &lt;chr&gt; | role &lt;chr&gt; |\n|---|---|---|---|---|---|---|\n| Academic Affairs | Research | Office of Sponsored Programs Administration | CC10982 | 9498 | Company               | The Ohio State University                                                                                                | Award Contract Specialist    |\n| Academic Affairs | Research | Office of Sponsored Programs Administration | CC10982 | 9498 | Cost Center Hierarchy | University and Affiliates CCH2                                                                                           | Grants Administrator Analyst |\n| Academic Affairs | Research | Office of Sponsored Programs Administration | CC10982 | 9498 | Company               | The Ohio State University                                                                                                | Inventory Analyst            |\n| Academic Affairs | Research | Office of Sponsored Programs Administration | CC10982 | 9498 | NA                    | GR101020 17-ATP17-0177, observational constraints on cosmic ray driven galactic winds | 60061464                         | Grant SPO Manager OSP        |\n| Academic Affairs | Research | Office of Sponsored Programs Administration | CC10982 | 9498 | NA                    | GR101042 A cepheid distance to NGC 4051 | 60056200                                                                       | Grant SPO Manager OSP        |\n| Academic Affairs | Research | Office of Sponsored Programs Administration | CC10982 | 9498 | NA                    | GR101065 A new look at perspective: Novel insights into the function of first-person and third-person imagery | 60058766 | Grant SPO Manager OSP        |\n\n",
            "text/html": [
              "<table class=\"dataframe\">\n",
              "<caption>A tibble: 6 × 7</caption>\n",
              "<thead>\n",
              "\t<tr><th scope=col>division</th><th scope=col>dep_id</th><th scope=col>cost_id</th><th scope=col>id</th><th scope=col>org_type</th><th scope=col>org</th><th scope=col>role</th></tr>\n",
              "\t<tr><th scope=col>&lt;chr&gt;</th><th scope=col>&lt;chr&gt;</th><th scope=col>&lt;chr&gt;</th><th scope=col>&lt;dbl&gt;</th><th scope=col>&lt;chr&gt;</th><th scope=col>&lt;chr&gt;</th><th scope=col>&lt;chr&gt;</th></tr>\n",
              "</thead>\n",
              "<tbody>\n",
              "\t<tr><td>Academic Affairs</td><td>Research | Office of Sponsored Programs Administration</td><td>CC10982</td><td>9498</td><td>Company              </td><td>The Ohio State University                                                                                               </td><td>Award Contract Specialist   </td></tr>\n",
              "\t<tr><td>Academic Affairs</td><td>Research | Office of Sponsored Programs Administration</td><td>CC10982</td><td>9498</td><td>Cost Center Hierarchy</td><td>University and Affiliates CCH2                                                                                          </td><td>Grants Administrator Analyst</td></tr>\n",
              "\t<tr><td>Academic Affairs</td><td>Research | Office of Sponsored Programs Administration</td><td>CC10982</td><td>9498</td><td>Company              </td><td>The Ohio State University                                                                                               </td><td>Inventory Analyst           </td></tr>\n",
              "\t<tr><td>Academic Affairs</td><td>Research | Office of Sponsored Programs Administration</td><td>CC10982</td><td>9498</td><td>NA                   </td><td>GR101020 17-ATP17-0177, observational constraints on cosmic ray driven galactic winds | 60061464                        </td><td>Grant SPO Manager OSP       </td></tr>\n",
              "\t<tr><td>Academic Affairs</td><td>Research | Office of Sponsored Programs Administration</td><td>CC10982</td><td>9498</td><td>NA                   </td><td>GR101042 A cepheid distance to NGC 4051 | 60056200                                                                      </td><td>Grant SPO Manager OSP       </td></tr>\n",
              "\t<tr><td>Academic Affairs</td><td>Research | Office of Sponsored Programs Administration</td><td>CC10982</td><td>9498</td><td>NA                   </td><td>GR101065 A new look at perspective: Novel insights into the function of first-person and third-person imagery | 60058766</td><td>Grant SPO Manager OSP       </td></tr>\n",
              "</tbody>\n",
              "</table>\n"
            ]
          },
          "metadata": {}
        }
      ]
    },
    {
      "cell_type": "code",
      "source": [
        "# per above, we can see that although this person has numerous distinct org and roles, \n",
        "# division, dep_id, and cost center remains to the same\n",
        "# therefore, the suggested strategy for the time being is to\n",
        "# clean the profile dataset with 1 unique id with division and dep_id\n",
        "\n",
        "profile_final <- profile_renamed %>%\n",
        "select(id, division, dep_id) %>%\n",
        "distinct()"
      ],
      "metadata": {
        "id": "QhFrG7UN81j6"
      },
      "execution_count": null,
      "outputs": []
    },
    {
      "cell_type": "code",
      "source": [
        "# assignment dataframe seems clean and I think we can keep it as is for now\n",
        "assignment_final <- assignment_renamed"
      ],
      "metadata": {
        "id": "pvOA0DED93WB"
      },
      "execution_count": null,
      "outputs": []
    },
    {
      "cell_type": "code",
      "source": [
        "# for completion dataframe, check if there is any training title \n",
        "# that is not included in the course_title in the assignment dataset\n",
        "distinct(completion_renamed[completion_renamed$training_title != unique(assignment_final$course_title), ])"
      ],
      "metadata": {
        "colab": {
          "base_uri": "https://localhost:8080/",
          "height": 1000
        },
        "id": "s4QYX_UB-tYy",
        "outputId": "c3da50fa-9aa9-4777-877e-15e690bf2512"
      },
      "execution_count": null,
      "outputs": [
        {
          "output_type": "stream",
          "name": "stderr",
          "text": [
            "Warning message in completion_renamed$training_title != unique(assignment_final$course_title):\n",
            "“longer object length is not a multiple of shorter object length”\n"
          ]
        },
        {
          "output_type": "display_data",
          "data": {
            "text/plain": [
              "      id    division_completion                      \n",
              "1     1     Veterinary Medicine                      \n",
              "2     2     Human Resources                          \n",
              "3     2     Human Resources                          \n",
              "4     2     Human Resources                          \n",
              "5     2     Human Resources                          \n",
              "6     2     Human Resources                          \n",
              "7     3     Administration and Planning              \n",
              "8     3     Administration and Planning              \n",
              "9     3     Administration and Planning              \n",
              "10    3     Administration and Planning              \n",
              "11    3     Administration and Planning              \n",
              "12    3     Administration and Planning              \n",
              "13    3     Administration and Planning              \n",
              "14    3     Administration and Planning              \n",
              "15    3     Administration and Planning              \n",
              "16    3     Administration and Planning              \n",
              "17    3     Administration and Planning              \n",
              "18    3     Administration and Planning              \n",
              "19    3     Administration and Planning              \n",
              "20    3     Administration and Planning              \n",
              "21    3     Administration and Planning              \n",
              "22    3     Administration and Planning              \n",
              "23    3     Administration and Planning              \n",
              "24    3     Administration and Planning              \n",
              "25    3     Administration and Planning              \n",
              "26    4     Engineering                              \n",
              "27    4     Engineering                              \n",
              "28    4     Engineering                              \n",
              "29    4     Engineering                              \n",
              "30    4     Engineering                              \n",
              "⋮     ⋮     ⋮                                        \n",
              "38334 10548 Business and Finance                     \n",
              "38335 10548 Business and Finance                     \n",
              "38336 10549 Health System | Other Business Activities\n",
              "38337 10549 Health System | Other Business Activities\n",
              "38338 10549 Health System | Other Business Activities\n",
              "38339 10549 Health System | Other Business Activities\n",
              "38340 10549 Health System | Other Business Activities\n",
              "38341 10549 Health System | Other Business Activities\n",
              "38342 10549 Health System | Other Business Activities\n",
              "38343 10549 Health System | Other Business Activities\n",
              "38344 10549 Health System | Other Business Activities\n",
              "38345 10549 Health System | Other Business Activities\n",
              "38346 10549 Health System | Other Business Activities\n",
              "38347 10550 Health Sciences                          \n",
              "38348 10550 Health Sciences                          \n",
              "38349 10551 Academic Affairs                         \n",
              "38350 10551 Academic Affairs                         \n",
              "38351 10551 Academic Affairs                         \n",
              "38352 10551 Academic Affairs                         \n",
              "38353 10551 Academic Affairs                         \n",
              "38354 10551 Academic Affairs                         \n",
              "38355 10551 Academic Affairs                         \n",
              "38356 10551 Academic Affairs                         \n",
              "38357 10551 Academic Affairs                         \n",
              "38358 10552 Medicine                                 \n",
              "38359 10552 Medicine                                 \n",
              "38360 10552 Medicine                                 \n",
              "38361 10553 Academic Affairs                         \n",
              "38362 10554 Medicine                                 \n",
              "38363 10555 Education and Human Ecology              \n",
              "      dep_id_completion                                 \n",
              "1     Veterinary Medicine | Veterinary Clinical Sciences\n",
              "2     Human Resources | Strategic Initiatives           \n",
              "3     Human Resources | Strategic Initiatives           \n",
              "4     Human Resources | Strategic Initiatives           \n",
              "5     Human Resources | Strategic Initiatives           \n",
              "6     Human Resources | Strategic Initiatives           \n",
              "7     Administration and Planning | Finance             \n",
              "8     Administration and Planning | Finance             \n",
              "9     Administration and Planning | Finance             \n",
              "10    Administration and Planning | Finance             \n",
              "11    Administration and Planning | Finance             \n",
              "12    Administration and Planning | Finance             \n",
              "13    Administration and Planning | Finance             \n",
              "14    Administration and Planning | Finance             \n",
              "15    Administration and Planning | Finance             \n",
              "16    Administration and Planning | Finance             \n",
              "17    Administration and Planning | Finance             \n",
              "18    Administration and Planning | Finance             \n",
              "19    Administration and Planning | Finance             \n",
              "20    Administration and Planning | Finance             \n",
              "21    Administration and Planning | Finance             \n",
              "22    Administration and Planning | Finance             \n",
              "23    Administration and Planning | Finance             \n",
              "24    Administration and Planning | Finance             \n",
              "25    Administration and Planning | Finance             \n",
              "26    Engineering | Materials Science and Engineering   \n",
              "27    Engineering | Materials Science and Engineering   \n",
              "28    Engineering | Materials Science and Engineering   \n",
              "29    Engineering | Materials Science and Engineering   \n",
              "30    Engineering | Materials Science and Engineering   \n",
              "⋮     ⋮                                                 \n",
              "38334 Business and Finance | Janitorial Closet          \n",
              "38335 Business and Finance | Janitorial Closet          \n",
              "38336 Other Business Activities | Supply Chain EFS      \n",
              "38337 Other Business Activities | Supply Chain EFS      \n",
              "38338 Other Business Activities | Supply Chain EFS      \n",
              "38339 Other Business Activities | Supply Chain EFS      \n",
              "38340 Other Business Activities | Supply Chain EFS      \n",
              "38341 Other Business Activities | Supply Chain EFS      \n",
              "38342 Other Business Activities | Supply Chain EFS      \n",
              "38343 Other Business Activities | Supply Chain EFS      \n",
              "38344 Other Business Activities | Supply Chain EFS      \n",
              "38345 Other Business Activities | Supply Chain EFS      \n",
              "38346 Other Business Activities | Supply Chain EFS      \n",
              "38347 CCC | Clinical Trials Office                      \n",
              "38348 CCC | Clinical Trials Office                      \n",
              "38349 OSAS | Student Financial Aid                      \n",
              "38350 OSAS | Student Financial Aid                      \n",
              "38351 OSAS | Student Financial Aid                      \n",
              "38352 OSAS | Student Financial Aid                      \n",
              "38353 OSAS | Student Financial Aid                      \n",
              "38354 OSAS | Student Financial Aid                      \n",
              "38355 OSAS | Student Financial Aid                      \n",
              "38356 OSAS | Student Financial Aid                      \n",
              "38357 OSAS | Student Financial Aid                      \n",
              "38358 Medicine | IM Cardiovascular Medicine             \n",
              "38359 Medicine | IM Cardiovascular Medicine             \n",
              "38360 Medicine | IM Cardiovascular Medicine             \n",
              "38361 OSAS | Undergraduate Admissions                   \n",
              "38362 Medicine | Pathology                              \n",
              "38363 EHE | Educational Studies Administration          \n",
              "      training_title                                                                    \n",
              "1     Workday: The Grant Management Dashboard for Principal Investigators               \n",
              "2     Enterprise Reporting Basics                                                       \n",
              "3     HR Consultants: Campus Manager Role in Workday                                    \n",
              "4     Workday Core Concepts                                                             \n",
              "5     Workday for Human Resources (HR) Consultants                                      \n",
              "6     Workday: Academic Appointments                                                    \n",
              "7     Adding Workday to Your Earnings Operation                                         \n",
              "8     Approve Spend Authorizations and Expense Reports in Workday                       \n",
              "9     Asset Management in Workday                                                       \n",
              "10    Costing Allocations in Workday                                                    \n",
              "11    Enterprise Reporting Basics                                                       \n",
              "12    Managing Gifts in Workday                                                         \n",
              "13    Payroll Accounting Adjustments in Workday                                         \n",
              "14    Requesting Goods and Services: The Workday Buying Experience                      \n",
              "15    Spend Authorizations and Expense Reports in Workday                               \n",
              "16    Workday Finance Foundation Data Model                                             \n",
              "17    Workday Payroll Expenses and Commitments                                          \n",
              "18    Workday: Claim on Cash and Intercompany Settlement                                \n",
              "19    Workday: General Funds Allocation                                                 \n",
              "20    Workday: Grant Management Reporting and Analysis                                  \n",
              "21    Workday: Journal Entries                                                          \n",
              "22    Workday: Period Close for Decentral Units                                         \n",
              "23    Workday: The Grant Management Dashboard for Principal Investigators               \n",
              "24    Workday: Variance Analysis and Forecasting                                        \n",
              "25    Using Workday Projects                                                            \n",
              "26    Adding Workday to Your Earnings Operation                                         \n",
              "27    Costing Allocations in Workday                                                    \n",
              "28    Enterprise Reporting Basics                                                       \n",
              "29    Managing Gifts in Workday                                                         \n",
              "30    Payroll Accounting Adjustments in Workday                                         \n",
              "⋮     ⋮                                                                                 \n",
              "38334 Workday: Order Fulfillment, for Campus Central Stores                             \n",
              "38335 Workday: Receiving, for Campus Central Stores                                     \n",
              "38336 Approve Spend Authorizations and Expense Reports in Workday                       \n",
              "38337 Asset Management in Workday                                                       \n",
              "38338 Enterprise Reporting Basics                                                       \n",
              "38339 Spend Authorizations and Expense Reports in Workday                               \n",
              "38340 Workday Core Concepts                                                             \n",
              "38341 Workday Finance Foundation Data Model                                             \n",
              "38342 Workday: Delivery Tracking & Returns, for Wexner Medical Center                   \n",
              "38343 Workday: Journal Entries                                                          \n",
              "38344 Workday: Order Fulfillment, for Wexner Medical Center                             \n",
              "38345 Workday: Requesting Goods & Services - The OSU Physicians (OSUP) Buying Experience\n",
              "38346 Workday: Supplier Record Management                                               \n",
              "38347 Workday for Campus Managers                                                       \n",
              "38348 Workday for Health System Managers                                                \n",
              "38349 Costing Allocations in Workday                                                    \n",
              "38350 Enterprise Reporting Basics                                                       \n",
              "38351 Managing Gifts in Workday                                                         \n",
              "38352 Payroll Accounting Adjustments in Workday                                         \n",
              "38353 Workday Finance Foundation Data Model                                             \n",
              "38354 Workday for Campus Managers                                                       \n",
              "38355 Workday Payroll Expenses and Commitments                                          \n",
              "38356 Workday: Claim on Cash and Intercompany Settlement                                \n",
              "38357 Workday: Period Close for Decentral Units                                         \n",
              "38358 Enterprise Reporting Basics                                                       \n",
              "38359 Workday for Campus Managers                                                       \n",
              "38360 Workday: The Grant Management Dashboard for Principal Investigators               \n",
              "38361 Workday for Campus Managers                                                       \n",
              "38362 Enterprise Reporting Basics                                                       \n",
              "38363 Enterprise Reporting Basics                                                       \n",
              "      training_type status    \n",
              "1     Event         Registered\n",
              "2     Online Class  Completed \n",
              "3     Curriculum    Complete  \n",
              "4     Online Class  Completed \n",
              "5     Curriculum    Complete  \n",
              "6     Curriculum    Complete  \n",
              "7     Event         Completed \n",
              "8     Online Class  Completed \n",
              "9     Online Class  Completed \n",
              "10    Online Class  Completed \n",
              "11    Online Class  Completed \n",
              "12    Online Class  Completed \n",
              "13    Online Class  Completed \n",
              "14    Online Class  Completed \n",
              "15    Online Class  Completed \n",
              "16    Curriculum    Complete  \n",
              "17    Curriculum    Complete  \n",
              "18    Online Class  Completed \n",
              "19    Online Class  Completed \n",
              "20    Event         Completed \n",
              "21    Event         Completed \n",
              "22    Online Class  Completed \n",
              "23    Event         Completed \n",
              "24    Online Class  Completed \n",
              "25    Curriculum    Incomplete\n",
              "26    Event         Registered\n",
              "27    Online Class  Completed \n",
              "28    Online Class  Completed \n",
              "29    Online Class  Completed \n",
              "30    Online Class  Completed \n",
              "⋮     ⋮             ⋮         \n",
              "38334 Event         Completed \n",
              "38335 Event         Completed \n",
              "38336 Online Class  Completed \n",
              "38337 Online Class  Completed \n",
              "38338 Online Class  Completed \n",
              "38339 Online Class  Completed \n",
              "38340 Online Class  Completed \n",
              "38341 Curriculum    Complete  \n",
              "38342 Event         Registered\n",
              "38343 Event         Registered\n",
              "38344 Event         Registered\n",
              "38345 Event         Registered\n",
              "38346 Event         Completed \n",
              "38347 Curriculum    Complete  \n",
              "38348 Curriculum    Complete  \n",
              "38349 Online Class  Completed \n",
              "38350 Online Class  Completed \n",
              "38351 Online Class  Completed \n",
              "38352 Online Class  Completed \n",
              "38353 Curriculum    Complete  \n",
              "38354 Curriculum    Complete  \n",
              "38355 Curriculum    Complete  \n",
              "38356 Online Class  Completed \n",
              "38357 Online Class  Completed \n",
              "38358 Online Class  Registered\n",
              "38359 Curriculum    Complete  \n",
              "38360 Event         Registered\n",
              "38361 Curriculum    Incomplete\n",
              "38362 Online Class  Completed \n",
              "38363 Online Class  Completed "
            ],
            "text/latex": "A tibble: 38363 × 6\n\\begin{tabular}{llllll}\n id & division\\_completion & dep\\_id\\_completion & training\\_title & training\\_type & status\\\\\n <dbl> & <chr> & <chr> & <chr> & <chr> & <chr>\\\\\n\\hline\n\t 1 & Veterinary Medicine         & Veterinary Medicine \\textbar{} Veterinary Clinical Sciences & Workday: The Grant Management Dashboard for Principal Investigators & Event        & Registered\\\\\n\t 2 & Human Resources             & Human Resources \\textbar{} Strategic Initiatives            & Enterprise Reporting Basics                                         & Online Class & Completed \\\\\n\t 2 & Human Resources             & Human Resources \\textbar{} Strategic Initiatives            & HR Consultants: Campus Manager Role in Workday                      & Curriculum   & Complete  \\\\\n\t 2 & Human Resources             & Human Resources \\textbar{} Strategic Initiatives            & Workday Core Concepts                                               & Online Class & Completed \\\\\n\t 2 & Human Resources             & Human Resources \\textbar{} Strategic Initiatives            & Workday for Human Resources (HR) Consultants                        & Curriculum   & Complete  \\\\\n\t 2 & Human Resources             & Human Resources \\textbar{} Strategic Initiatives            & Workday: Academic Appointments                                      & Curriculum   & Complete  \\\\\n\t 3 & Administration and Planning & Administration and Planning \\textbar{} Finance              & Adding Workday to Your Earnings Operation                           & Event        & Completed \\\\\n\t 3 & Administration and Planning & Administration and Planning \\textbar{} Finance              & Approve Spend Authorizations and Expense Reports in Workday         & Online Class & Completed \\\\\n\t 3 & Administration and Planning & Administration and Planning \\textbar{} Finance              & Asset Management in Workday                                         & Online Class & Completed \\\\\n\t 3 & Administration and Planning & Administration and Planning \\textbar{} Finance              & Costing Allocations in Workday                                      & Online Class & Completed \\\\\n\t 3 & Administration and Planning & Administration and Planning \\textbar{} Finance              & Enterprise Reporting Basics                                         & Online Class & Completed \\\\\n\t 3 & Administration and Planning & Administration and Planning \\textbar{} Finance              & Managing Gifts in Workday                                           & Online Class & Completed \\\\\n\t 3 & Administration and Planning & Administration and Planning \\textbar{} Finance              & Payroll Accounting Adjustments in Workday                           & Online Class & Completed \\\\\n\t 3 & Administration and Planning & Administration and Planning \\textbar{} Finance              & Requesting Goods and Services: The Workday Buying Experience        & Online Class & Completed \\\\\n\t 3 & Administration and Planning & Administration and Planning \\textbar{} Finance              & Spend Authorizations and Expense Reports in Workday                 & Online Class & Completed \\\\\n\t 3 & Administration and Planning & Administration and Planning \\textbar{} Finance              & Workday Finance Foundation Data Model                               & Curriculum   & Complete  \\\\\n\t 3 & Administration and Planning & Administration and Planning \\textbar{} Finance              & Workday Payroll Expenses and Commitments                            & Curriculum   & Complete  \\\\\n\t 3 & Administration and Planning & Administration and Planning \\textbar{} Finance              & Workday: Claim on Cash and Intercompany Settlement                  & Online Class & Completed \\\\\n\t 3 & Administration and Planning & Administration and Planning \\textbar{} Finance              & Workday: General Funds Allocation                                   & Online Class & Completed \\\\\n\t 3 & Administration and Planning & Administration and Planning \\textbar{} Finance              & Workday: Grant Management Reporting and Analysis                    & Event        & Completed \\\\\n\t 3 & Administration and Planning & Administration and Planning \\textbar{} Finance              & Workday: Journal Entries                                            & Event        & Completed \\\\\n\t 3 & Administration and Planning & Administration and Planning \\textbar{} Finance              & Workday: Period Close for Decentral Units                           & Online Class & Completed \\\\\n\t 3 & Administration and Planning & Administration and Planning \\textbar{} Finance              & Workday: The Grant Management Dashboard for Principal Investigators & Event        & Completed \\\\\n\t 3 & Administration and Planning & Administration and Planning \\textbar{} Finance              & Workday: Variance Analysis and Forecasting                          & Online Class & Completed \\\\\n\t 3 & Administration and Planning & Administration and Planning \\textbar{} Finance              & Using Workday Projects                                              & Curriculum   & Incomplete\\\\\n\t 4 & Engineering                 & Engineering \\textbar{} Materials Science and Engineering    & Adding Workday to Your Earnings Operation                           & Event        & Registered\\\\\n\t 4 & Engineering                 & Engineering \\textbar{} Materials Science and Engineering    & Costing Allocations in Workday                                      & Online Class & Completed \\\\\n\t 4 & Engineering                 & Engineering \\textbar{} Materials Science and Engineering    & Enterprise Reporting Basics                                         & Online Class & Completed \\\\\n\t 4 & Engineering                 & Engineering \\textbar{} Materials Science and Engineering    & Managing Gifts in Workday                                           & Online Class & Completed \\\\\n\t 4 & Engineering                 & Engineering \\textbar{} Materials Science and Engineering    & Payroll Accounting Adjustments in Workday                           & Online Class & Completed \\\\\n\t ⋮ & ⋮ & ⋮ & ⋮ & ⋮ & ⋮\\\\\n\t 10548 & Business and Finance                      & Business and Finance \\textbar{} Janitorial Closet     & Workday: Order Fulfillment, for Campus Central Stores                              & Event        & Completed \\\\\n\t 10548 & Business and Finance                      & Business and Finance \\textbar{} Janitorial Closet     & Workday: Receiving, for Campus Central Stores                                      & Event        & Completed \\\\\n\t 10549 & Health System \\textbar{} Other Business Activities & Other Business Activities \\textbar{} Supply Chain EFS & Approve Spend Authorizations and Expense Reports in Workday                        & Online Class & Completed \\\\\n\t 10549 & Health System \\textbar{} Other Business Activities & Other Business Activities \\textbar{} Supply Chain EFS & Asset Management in Workday                                                        & Online Class & Completed \\\\\n\t 10549 & Health System \\textbar{} Other Business Activities & Other Business Activities \\textbar{} Supply Chain EFS & Enterprise Reporting Basics                                                        & Online Class & Completed \\\\\n\t 10549 & Health System \\textbar{} Other Business Activities & Other Business Activities \\textbar{} Supply Chain EFS & Spend Authorizations and Expense Reports in Workday                                & Online Class & Completed \\\\\n\t 10549 & Health System \\textbar{} Other Business Activities & Other Business Activities \\textbar{} Supply Chain EFS & Workday Core Concepts                                                              & Online Class & Completed \\\\\n\t 10549 & Health System \\textbar{} Other Business Activities & Other Business Activities \\textbar{} Supply Chain EFS & Workday Finance Foundation Data Model                                              & Curriculum   & Complete  \\\\\n\t 10549 & Health System \\textbar{} Other Business Activities & Other Business Activities \\textbar{} Supply Chain EFS & Workday: Delivery Tracking \\& Returns, for Wexner Medical Center                    & Event        & Registered\\\\\n\t 10549 & Health System \\textbar{} Other Business Activities & Other Business Activities \\textbar{} Supply Chain EFS & Workday: Journal Entries                                                           & Event        & Registered\\\\\n\t 10549 & Health System \\textbar{} Other Business Activities & Other Business Activities \\textbar{} Supply Chain EFS & Workday: Order Fulfillment, for Wexner Medical Center                              & Event        & Registered\\\\\n\t 10549 & Health System \\textbar{} Other Business Activities & Other Business Activities \\textbar{} Supply Chain EFS & Workday: Requesting Goods \\& Services - The OSU Physicians (OSUP) Buying Experience & Event        & Registered\\\\\n\t 10549 & Health System \\textbar{} Other Business Activities & Other Business Activities \\textbar{} Supply Chain EFS & Workday: Supplier Record Management                                                & Event        & Completed \\\\\n\t 10550 & Health Sciences                           & CCC \\textbar{} Clinical Trials Office                 & Workday for Campus Managers                                                        & Curriculum   & Complete  \\\\\n\t 10550 & Health Sciences                           & CCC \\textbar{} Clinical Trials Office                 & Workday for Health System Managers                                                 & Curriculum   & Complete  \\\\\n\t 10551 & Academic Affairs                          & OSAS \\textbar{} Student Financial Aid                 & Costing Allocations in Workday                                                     & Online Class & Completed \\\\\n\t 10551 & Academic Affairs                          & OSAS \\textbar{} Student Financial Aid                 & Enterprise Reporting Basics                                                        & Online Class & Completed \\\\\n\t 10551 & Academic Affairs                          & OSAS \\textbar{} Student Financial Aid                 & Managing Gifts in Workday                                                          & Online Class & Completed \\\\\n\t 10551 & Academic Affairs                          & OSAS \\textbar{} Student Financial Aid                 & Payroll Accounting Adjustments in Workday                                          & Online Class & Completed \\\\\n\t 10551 & Academic Affairs                          & OSAS \\textbar{} Student Financial Aid                 & Workday Finance Foundation Data Model                                              & Curriculum   & Complete  \\\\\n\t 10551 & Academic Affairs                          & OSAS \\textbar{} Student Financial Aid                 & Workday for Campus Managers                                                        & Curriculum   & Complete  \\\\\n\t 10551 & Academic Affairs                          & OSAS \\textbar{} Student Financial Aid                 & Workday Payroll Expenses and Commitments                                           & Curriculum   & Complete  \\\\\n\t 10551 & Academic Affairs                          & OSAS \\textbar{} Student Financial Aid                 & Workday: Claim on Cash and Intercompany Settlement                                 & Online Class & Completed \\\\\n\t 10551 & Academic Affairs                          & OSAS \\textbar{} Student Financial Aid                 & Workday: Period Close for Decentral Units                                          & Online Class & Completed \\\\\n\t 10552 & Medicine                                  & Medicine \\textbar{} IM Cardiovascular Medicine        & Enterprise Reporting Basics                                                        & Online Class & Registered\\\\\n\t 10552 & Medicine                                  & Medicine \\textbar{} IM Cardiovascular Medicine        & Workday for Campus Managers                                                        & Curriculum   & Complete  \\\\\n\t 10552 & Medicine                                  & Medicine \\textbar{} IM Cardiovascular Medicine        & Workday: The Grant Management Dashboard for Principal Investigators                & Event        & Registered\\\\\n\t 10553 & Academic Affairs                          & OSAS \\textbar{} Undergraduate Admissions              & Workday for Campus Managers                                                        & Curriculum   & Incomplete\\\\\n\t 10554 & Medicine                                  & Medicine \\textbar{} Pathology                         & Enterprise Reporting Basics                                                        & Online Class & Completed \\\\\n\t 10555 & Education and Human Ecology               & EHE \\textbar{} Educational Studies Administration     & Enterprise Reporting Basics                                                        & Online Class & Completed \\\\\n\\end{tabular}\n",
            "text/markdown": "\nA tibble: 38363 × 6\n\n| id &lt;dbl&gt; | division_completion &lt;chr&gt; | dep_id_completion &lt;chr&gt; | training_title &lt;chr&gt; | training_type &lt;chr&gt; | status &lt;chr&gt; |\n|---|---|---|---|---|---|\n| 1 | Veterinary Medicine         | Veterinary Medicine | Veterinary Clinical Sciences | Workday: The Grant Management Dashboard for Principal Investigators | Event        | Registered |\n| 2 | Human Resources             | Human Resources | Strategic Initiatives            | Enterprise Reporting Basics                                         | Online Class | Completed  |\n| 2 | Human Resources             | Human Resources | Strategic Initiatives            | HR Consultants: Campus Manager Role in Workday                      | Curriculum   | Complete   |\n| 2 | Human Resources             | Human Resources | Strategic Initiatives            | Workday Core Concepts                                               | Online Class | Completed  |\n| 2 | Human Resources             | Human Resources | Strategic Initiatives            | Workday for Human Resources (HR) Consultants                        | Curriculum   | Complete   |\n| 2 | Human Resources             | Human Resources | Strategic Initiatives            | Workday: Academic Appointments                                      | Curriculum   | Complete   |\n| 3 | Administration and Planning | Administration and Planning | Finance              | Adding Workday to Your Earnings Operation                           | Event        | Completed  |\n| 3 | Administration and Planning | Administration and Planning | Finance              | Approve Spend Authorizations and Expense Reports in Workday         | Online Class | Completed  |\n| 3 | Administration and Planning | Administration and Planning | Finance              | Asset Management in Workday                                         | Online Class | Completed  |\n| 3 | Administration and Planning | Administration and Planning | Finance              | Costing Allocations in Workday                                      | Online Class | Completed  |\n| 3 | Administration and Planning | Administration and Planning | Finance              | Enterprise Reporting Basics                                         | Online Class | Completed  |\n| 3 | Administration and Planning | Administration and Planning | Finance              | Managing Gifts in Workday                                           | Online Class | Completed  |\n| 3 | Administration and Planning | Administration and Planning | Finance              | Payroll Accounting Adjustments in Workday                           | Online Class | Completed  |\n| 3 | Administration and Planning | Administration and Planning | Finance              | Requesting Goods and Services: The Workday Buying Experience        | Online Class | Completed  |\n| 3 | Administration and Planning | Administration and Planning | Finance              | Spend Authorizations and Expense Reports in Workday                 | Online Class | Completed  |\n| 3 | Administration and Planning | Administration and Planning | Finance              | Workday Finance Foundation Data Model                               | Curriculum   | Complete   |\n| 3 | Administration and Planning | Administration and Planning | Finance              | Workday Payroll Expenses and Commitments                            | Curriculum   | Complete   |\n| 3 | Administration and Planning | Administration and Planning | Finance              | Workday: Claim on Cash and Intercompany Settlement                  | Online Class | Completed  |\n| 3 | Administration and Planning | Administration and Planning | Finance              | Workday: General Funds Allocation                                   | Online Class | Completed  |\n| 3 | Administration and Planning | Administration and Planning | Finance              | Workday: Grant Management Reporting and Analysis                    | Event        | Completed  |\n| 3 | Administration and Planning | Administration and Planning | Finance              | Workday: Journal Entries                                            | Event        | Completed  |\n| 3 | Administration and Planning | Administration and Planning | Finance              | Workday: Period Close for Decentral Units                           | Online Class | Completed  |\n| 3 | Administration and Planning | Administration and Planning | Finance              | Workday: The Grant Management Dashboard for Principal Investigators | Event        | Completed  |\n| 3 | Administration and Planning | Administration and Planning | Finance              | Workday: Variance Analysis and Forecasting                          | Online Class | Completed  |\n| 3 | Administration and Planning | Administration and Planning | Finance              | Using Workday Projects                                              | Curriculum   | Incomplete |\n| 4 | Engineering                 | Engineering | Materials Science and Engineering    | Adding Workday to Your Earnings Operation                           | Event        | Registered |\n| 4 | Engineering                 | Engineering | Materials Science and Engineering    | Costing Allocations in Workday                                      | Online Class | Completed  |\n| 4 | Engineering                 | Engineering | Materials Science and Engineering    | Enterprise Reporting Basics                                         | Online Class | Completed  |\n| 4 | Engineering                 | Engineering | Materials Science and Engineering    | Managing Gifts in Workday                                           | Online Class | Completed  |\n| 4 | Engineering                 | Engineering | Materials Science and Engineering    | Payroll Accounting Adjustments in Workday                           | Online Class | Completed  |\n| ⋮ | ⋮ | ⋮ | ⋮ | ⋮ | ⋮ |\n| 10548 | Business and Finance                      | Business and Finance | Janitorial Closet     | Workday: Order Fulfillment, for Campus Central Stores                              | Event        | Completed  |\n| 10548 | Business and Finance                      | Business and Finance | Janitorial Closet     | Workday: Receiving, for Campus Central Stores                                      | Event        | Completed  |\n| 10549 | Health System | Other Business Activities | Other Business Activities | Supply Chain EFS | Approve Spend Authorizations and Expense Reports in Workday                        | Online Class | Completed  |\n| 10549 | Health System | Other Business Activities | Other Business Activities | Supply Chain EFS | Asset Management in Workday                                                        | Online Class | Completed  |\n| 10549 | Health System | Other Business Activities | Other Business Activities | Supply Chain EFS | Enterprise Reporting Basics                                                        | Online Class | Completed  |\n| 10549 | Health System | Other Business Activities | Other Business Activities | Supply Chain EFS | Spend Authorizations and Expense Reports in Workday                                | Online Class | Completed  |\n| 10549 | Health System | Other Business Activities | Other Business Activities | Supply Chain EFS | Workday Core Concepts                                                              | Online Class | Completed  |\n| 10549 | Health System | Other Business Activities | Other Business Activities | Supply Chain EFS | Workday Finance Foundation Data Model                                              | Curriculum   | Complete   |\n| 10549 | Health System | Other Business Activities | Other Business Activities | Supply Chain EFS | Workday: Delivery Tracking &amp; Returns, for Wexner Medical Center                    | Event        | Registered |\n| 10549 | Health System | Other Business Activities | Other Business Activities | Supply Chain EFS | Workday: Journal Entries                                                           | Event        | Registered |\n| 10549 | Health System | Other Business Activities | Other Business Activities | Supply Chain EFS | Workday: Order Fulfillment, for Wexner Medical Center                              | Event        | Registered |\n| 10549 | Health System | Other Business Activities | Other Business Activities | Supply Chain EFS | Workday: Requesting Goods &amp; Services - The OSU Physicians (OSUP) Buying Experience | Event        | Registered |\n| 10549 | Health System | Other Business Activities | Other Business Activities | Supply Chain EFS | Workday: Supplier Record Management                                                | Event        | Completed  |\n| 10550 | Health Sciences                           | CCC | Clinical Trials Office                 | Workday for Campus Managers                                                        | Curriculum   | Complete   |\n| 10550 | Health Sciences                           | CCC | Clinical Trials Office                 | Workday for Health System Managers                                                 | Curriculum   | Complete   |\n| 10551 | Academic Affairs                          | OSAS | Student Financial Aid                 | Costing Allocations in Workday                                                     | Online Class | Completed  |\n| 10551 | Academic Affairs                          | OSAS | Student Financial Aid                 | Enterprise Reporting Basics                                                        | Online Class | Completed  |\n| 10551 | Academic Affairs                          | OSAS | Student Financial Aid                 | Managing Gifts in Workday                                                          | Online Class | Completed  |\n| 10551 | Academic Affairs                          | OSAS | Student Financial Aid                 | Payroll Accounting Adjustments in Workday                                          | Online Class | Completed  |\n| 10551 | Academic Affairs                          | OSAS | Student Financial Aid                 | Workday Finance Foundation Data Model                                              | Curriculum   | Complete   |\n| 10551 | Academic Affairs                          | OSAS | Student Financial Aid                 | Workday for Campus Managers                                                        | Curriculum   | Complete   |\n| 10551 | Academic Affairs                          | OSAS | Student Financial Aid                 | Workday Payroll Expenses and Commitments                                           | Curriculum   | Complete   |\n| 10551 | Academic Affairs                          | OSAS | Student Financial Aid                 | Workday: Claim on Cash and Intercompany Settlement                                 | Online Class | Completed  |\n| 10551 | Academic Affairs                          | OSAS | Student Financial Aid                 | Workday: Period Close for Decentral Units                                          | Online Class | Completed  |\n| 10552 | Medicine                                  | Medicine | IM Cardiovascular Medicine        | Enterprise Reporting Basics                                                        | Online Class | Registered |\n| 10552 | Medicine                                  | Medicine | IM Cardiovascular Medicine        | Workday for Campus Managers                                                        | Curriculum   | Complete   |\n| 10552 | Medicine                                  | Medicine | IM Cardiovascular Medicine        | Workday: The Grant Management Dashboard for Principal Investigators                | Event        | Registered |\n| 10553 | Academic Affairs                          | OSAS | Undergraduate Admissions              | Workday for Campus Managers                                                        | Curriculum   | Incomplete |\n| 10554 | Medicine                                  | Medicine | Pathology                         | Enterprise Reporting Basics                                                        | Online Class | Completed  |\n| 10555 | Education and Human Ecology               | EHE | Educational Studies Administration     | Enterprise Reporting Basics                                                        | Online Class | Completed  |\n\n",
            "text/html": [
              "<table class=\"dataframe\">\n",
              "<caption>A tibble: 38363 × 6</caption>\n",
              "<thead>\n",
              "\t<tr><th scope=col>id</th><th scope=col>division_completion</th><th scope=col>dep_id_completion</th><th scope=col>training_title</th><th scope=col>training_type</th><th scope=col>status</th></tr>\n",
              "\t<tr><th scope=col>&lt;dbl&gt;</th><th scope=col>&lt;chr&gt;</th><th scope=col>&lt;chr&gt;</th><th scope=col>&lt;chr&gt;</th><th scope=col>&lt;chr&gt;</th><th scope=col>&lt;chr&gt;</th></tr>\n",
              "</thead>\n",
              "<tbody>\n",
              "\t<tr><td>1</td><td>Veterinary Medicine        </td><td>Veterinary Medicine | Veterinary Clinical Sciences</td><td>Workday: The Grant Management Dashboard for Principal Investigators</td><td>Event       </td><td>Registered</td></tr>\n",
              "\t<tr><td>2</td><td>Human Resources            </td><td>Human Resources | Strategic Initiatives           </td><td>Enterprise Reporting Basics                                        </td><td>Online Class</td><td>Completed </td></tr>\n",
              "\t<tr><td>2</td><td>Human Resources            </td><td>Human Resources | Strategic Initiatives           </td><td>HR Consultants: Campus Manager Role in Workday                     </td><td>Curriculum  </td><td>Complete  </td></tr>\n",
              "\t<tr><td>2</td><td>Human Resources            </td><td>Human Resources | Strategic Initiatives           </td><td>Workday Core Concepts                                              </td><td>Online Class</td><td>Completed </td></tr>\n",
              "\t<tr><td>2</td><td>Human Resources            </td><td>Human Resources | Strategic Initiatives           </td><td>Workday for Human Resources (HR) Consultants                       </td><td>Curriculum  </td><td>Complete  </td></tr>\n",
              "\t<tr><td>2</td><td>Human Resources            </td><td>Human Resources | Strategic Initiatives           </td><td>Workday: Academic Appointments                                     </td><td>Curriculum  </td><td>Complete  </td></tr>\n",
              "\t<tr><td>3</td><td>Administration and Planning</td><td>Administration and Planning | Finance             </td><td>Adding Workday to Your Earnings Operation                          </td><td>Event       </td><td>Completed </td></tr>\n",
              "\t<tr><td>3</td><td>Administration and Planning</td><td>Administration and Planning | Finance             </td><td>Approve Spend Authorizations and Expense Reports in Workday        </td><td>Online Class</td><td>Completed </td></tr>\n",
              "\t<tr><td>3</td><td>Administration and Planning</td><td>Administration and Planning | Finance             </td><td>Asset Management in Workday                                        </td><td>Online Class</td><td>Completed </td></tr>\n",
              "\t<tr><td>3</td><td>Administration and Planning</td><td>Administration and Planning | Finance             </td><td>Costing Allocations in Workday                                     </td><td>Online Class</td><td>Completed </td></tr>\n",
              "\t<tr><td>3</td><td>Administration and Planning</td><td>Administration and Planning | Finance             </td><td>Enterprise Reporting Basics                                        </td><td>Online Class</td><td>Completed </td></tr>\n",
              "\t<tr><td>3</td><td>Administration and Planning</td><td>Administration and Planning | Finance             </td><td>Managing Gifts in Workday                                          </td><td>Online Class</td><td>Completed </td></tr>\n",
              "\t<tr><td>3</td><td>Administration and Planning</td><td>Administration and Planning | Finance             </td><td>Payroll Accounting Adjustments in Workday                          </td><td>Online Class</td><td>Completed </td></tr>\n",
              "\t<tr><td>3</td><td>Administration and Planning</td><td>Administration and Planning | Finance             </td><td>Requesting Goods and Services: The Workday Buying Experience       </td><td>Online Class</td><td>Completed </td></tr>\n",
              "\t<tr><td>3</td><td>Administration and Planning</td><td>Administration and Planning | Finance             </td><td>Spend Authorizations and Expense Reports in Workday                </td><td>Online Class</td><td>Completed </td></tr>\n",
              "\t<tr><td>3</td><td>Administration and Planning</td><td>Administration and Planning | Finance             </td><td>Workday Finance Foundation Data Model                              </td><td>Curriculum  </td><td>Complete  </td></tr>\n",
              "\t<tr><td>3</td><td>Administration and Planning</td><td>Administration and Planning | Finance             </td><td>Workday Payroll Expenses and Commitments                           </td><td>Curriculum  </td><td>Complete  </td></tr>\n",
              "\t<tr><td>3</td><td>Administration and Planning</td><td>Administration and Planning | Finance             </td><td>Workday: Claim on Cash and Intercompany Settlement                 </td><td>Online Class</td><td>Completed </td></tr>\n",
              "\t<tr><td>3</td><td>Administration and Planning</td><td>Administration and Planning | Finance             </td><td>Workday: General Funds Allocation                                  </td><td>Online Class</td><td>Completed </td></tr>\n",
              "\t<tr><td>3</td><td>Administration and Planning</td><td>Administration and Planning | Finance             </td><td>Workday: Grant Management Reporting and Analysis                   </td><td>Event       </td><td>Completed </td></tr>\n",
              "\t<tr><td>3</td><td>Administration and Planning</td><td>Administration and Planning | Finance             </td><td>Workday: Journal Entries                                           </td><td>Event       </td><td>Completed </td></tr>\n",
              "\t<tr><td>3</td><td>Administration and Planning</td><td>Administration and Planning | Finance             </td><td>Workday: Period Close for Decentral Units                          </td><td>Online Class</td><td>Completed </td></tr>\n",
              "\t<tr><td>3</td><td>Administration and Planning</td><td>Administration and Planning | Finance             </td><td>Workday: The Grant Management Dashboard for Principal Investigators</td><td>Event       </td><td>Completed </td></tr>\n",
              "\t<tr><td>3</td><td>Administration and Planning</td><td>Administration and Planning | Finance             </td><td>Workday: Variance Analysis and Forecasting                         </td><td>Online Class</td><td>Completed </td></tr>\n",
              "\t<tr><td>3</td><td>Administration and Planning</td><td>Administration and Planning | Finance             </td><td>Using Workday Projects                                             </td><td>Curriculum  </td><td>Incomplete</td></tr>\n",
              "\t<tr><td>4</td><td>Engineering                </td><td>Engineering | Materials Science and Engineering   </td><td>Adding Workday to Your Earnings Operation                          </td><td>Event       </td><td>Registered</td></tr>\n",
              "\t<tr><td>4</td><td>Engineering                </td><td>Engineering | Materials Science and Engineering   </td><td>Costing Allocations in Workday                                     </td><td>Online Class</td><td>Completed </td></tr>\n",
              "\t<tr><td>4</td><td>Engineering                </td><td>Engineering | Materials Science and Engineering   </td><td>Enterprise Reporting Basics                                        </td><td>Online Class</td><td>Completed </td></tr>\n",
              "\t<tr><td>4</td><td>Engineering                </td><td>Engineering | Materials Science and Engineering   </td><td>Managing Gifts in Workday                                          </td><td>Online Class</td><td>Completed </td></tr>\n",
              "\t<tr><td>4</td><td>Engineering                </td><td>Engineering | Materials Science and Engineering   </td><td>Payroll Accounting Adjustments in Workday                          </td><td>Online Class</td><td>Completed </td></tr>\n",
              "\t<tr><td>⋮</td><td>⋮</td><td>⋮</td><td>⋮</td><td>⋮</td><td>⋮</td></tr>\n",
              "\t<tr><td>10548</td><td>Business and Finance                     </td><td>Business and Finance | Janitorial Closet    </td><td>Workday: Order Fulfillment, for Campus Central Stores                             </td><td>Event       </td><td>Completed </td></tr>\n",
              "\t<tr><td>10548</td><td>Business and Finance                     </td><td>Business and Finance | Janitorial Closet    </td><td>Workday: Receiving, for Campus Central Stores                                     </td><td>Event       </td><td>Completed </td></tr>\n",
              "\t<tr><td>10549</td><td>Health System | Other Business Activities</td><td>Other Business Activities | Supply Chain EFS</td><td>Approve Spend Authorizations and Expense Reports in Workday                       </td><td>Online Class</td><td>Completed </td></tr>\n",
              "\t<tr><td>10549</td><td>Health System | Other Business Activities</td><td>Other Business Activities | Supply Chain EFS</td><td>Asset Management in Workday                                                       </td><td>Online Class</td><td>Completed </td></tr>\n",
              "\t<tr><td>10549</td><td>Health System | Other Business Activities</td><td>Other Business Activities | Supply Chain EFS</td><td>Enterprise Reporting Basics                                                       </td><td>Online Class</td><td>Completed </td></tr>\n",
              "\t<tr><td>10549</td><td>Health System | Other Business Activities</td><td>Other Business Activities | Supply Chain EFS</td><td>Spend Authorizations and Expense Reports in Workday                               </td><td>Online Class</td><td>Completed </td></tr>\n",
              "\t<tr><td>10549</td><td>Health System | Other Business Activities</td><td>Other Business Activities | Supply Chain EFS</td><td>Workday Core Concepts                                                             </td><td>Online Class</td><td>Completed </td></tr>\n",
              "\t<tr><td>10549</td><td>Health System | Other Business Activities</td><td>Other Business Activities | Supply Chain EFS</td><td>Workday Finance Foundation Data Model                                             </td><td>Curriculum  </td><td>Complete  </td></tr>\n",
              "\t<tr><td>10549</td><td>Health System | Other Business Activities</td><td>Other Business Activities | Supply Chain EFS</td><td><span style=white-space:pre-wrap>Workday: Delivery Tracking &amp; Returns, for Wexner Medical Center                   </span></td><td><span style=white-space:pre-wrap>Event       </span></td><td>Registered</td></tr>\n",
              "\t<tr><td>10549</td><td>Health System | Other Business Activities</td><td>Other Business Activities | Supply Chain EFS</td><td>Workday: Journal Entries                                                          </td><td>Event       </td><td>Registered</td></tr>\n",
              "\t<tr><td>10549</td><td>Health System | Other Business Activities</td><td>Other Business Activities | Supply Chain EFS</td><td>Workday: Order Fulfillment, for Wexner Medical Center                             </td><td>Event       </td><td>Registered</td></tr>\n",
              "\t<tr><td>10549</td><td>Health System | Other Business Activities</td><td>Other Business Activities | Supply Chain EFS</td><td>Workday: Requesting Goods &amp; Services - The OSU Physicians (OSUP) Buying Experience</td><td><span style=white-space:pre-wrap>Event       </span></td><td>Registered</td></tr>\n",
              "\t<tr><td>10549</td><td>Health System | Other Business Activities</td><td>Other Business Activities | Supply Chain EFS</td><td>Workday: Supplier Record Management                                               </td><td>Event       </td><td>Completed </td></tr>\n",
              "\t<tr><td>10550</td><td>Health Sciences                          </td><td>CCC | Clinical Trials Office                </td><td>Workday for Campus Managers                                                       </td><td>Curriculum  </td><td>Complete  </td></tr>\n",
              "\t<tr><td>10550</td><td>Health Sciences                          </td><td>CCC | Clinical Trials Office                </td><td>Workday for Health System Managers                                                </td><td>Curriculum  </td><td>Complete  </td></tr>\n",
              "\t<tr><td>10551</td><td>Academic Affairs                         </td><td>OSAS | Student Financial Aid                </td><td>Costing Allocations in Workday                                                    </td><td>Online Class</td><td>Completed </td></tr>\n",
              "\t<tr><td>10551</td><td>Academic Affairs                         </td><td>OSAS | Student Financial Aid                </td><td>Enterprise Reporting Basics                                                       </td><td>Online Class</td><td>Completed </td></tr>\n",
              "\t<tr><td>10551</td><td>Academic Affairs                         </td><td>OSAS | Student Financial Aid                </td><td>Managing Gifts in Workday                                                         </td><td>Online Class</td><td>Completed </td></tr>\n",
              "\t<tr><td>10551</td><td>Academic Affairs                         </td><td>OSAS | Student Financial Aid                </td><td>Payroll Accounting Adjustments in Workday                                         </td><td>Online Class</td><td>Completed </td></tr>\n",
              "\t<tr><td>10551</td><td>Academic Affairs                         </td><td>OSAS | Student Financial Aid                </td><td>Workday Finance Foundation Data Model                                             </td><td>Curriculum  </td><td>Complete  </td></tr>\n",
              "\t<tr><td>10551</td><td>Academic Affairs                         </td><td>OSAS | Student Financial Aid                </td><td>Workday for Campus Managers                                                       </td><td>Curriculum  </td><td>Complete  </td></tr>\n",
              "\t<tr><td>10551</td><td>Academic Affairs                         </td><td>OSAS | Student Financial Aid                </td><td>Workday Payroll Expenses and Commitments                                          </td><td>Curriculum  </td><td>Complete  </td></tr>\n",
              "\t<tr><td>10551</td><td>Academic Affairs                         </td><td>OSAS | Student Financial Aid                </td><td>Workday: Claim on Cash and Intercompany Settlement                                </td><td>Online Class</td><td>Completed </td></tr>\n",
              "\t<tr><td>10551</td><td>Academic Affairs                         </td><td>OSAS | Student Financial Aid                </td><td>Workday: Period Close for Decentral Units                                         </td><td>Online Class</td><td>Completed </td></tr>\n",
              "\t<tr><td>10552</td><td>Medicine                                 </td><td>Medicine | IM Cardiovascular Medicine       </td><td>Enterprise Reporting Basics                                                       </td><td>Online Class</td><td>Registered</td></tr>\n",
              "\t<tr><td>10552</td><td>Medicine                                 </td><td>Medicine | IM Cardiovascular Medicine       </td><td>Workday for Campus Managers                                                       </td><td>Curriculum  </td><td>Complete  </td></tr>\n",
              "\t<tr><td>10552</td><td>Medicine                                 </td><td>Medicine | IM Cardiovascular Medicine       </td><td>Workday: The Grant Management Dashboard for Principal Investigators               </td><td>Event       </td><td>Registered</td></tr>\n",
              "\t<tr><td>10553</td><td>Academic Affairs                         </td><td>OSAS | Undergraduate Admissions             </td><td>Workday for Campus Managers                                                       </td><td>Curriculum  </td><td>Incomplete</td></tr>\n",
              "\t<tr><td>10554</td><td>Medicine                                 </td><td>Medicine | Pathology                        </td><td>Enterprise Reporting Basics                                                       </td><td>Online Class</td><td>Completed </td></tr>\n",
              "\t<tr><td>10555</td><td>Education and Human Ecology              </td><td>EHE | Educational Studies Administration    </td><td>Enterprise Reporting Basics                                                       </td><td>Online Class</td><td>Completed </td></tr>\n",
              "</tbody>\n",
              "</table>\n"
            ]
          },
          "metadata": {}
        }
      ]
    },
    {
      "cell_type": "code",
      "source": [
        "# check the other way around --i.e., \n",
        "# for assignment dataframe, check if there is any course title \n",
        "# that is not included in the training title in the completion dataset\n",
        "distinct(assignment_final[assignment_final$course_title != unique(completion_renamed$training_title), ])"
      ],
      "metadata": {
        "colab": {
          "base_uri": "https://localhost:8080/",
          "height": 1000
        },
        "id": "W9Nj3L06__ie",
        "outputId": "30d0f112-0a6a-4373-8334-2e71b4a9ef5d"
      },
      "execution_count": null,
      "outputs": [
        {
          "output_type": "stream",
          "name": "stderr",
          "text": [
            "Warning message in assignment_final$course_title != unique(completion_renamed$training_title):\n",
            "“longer object length is not a multiple of shorter object length”\n"
          ]
        },
        {
          "output_type": "display_data",
          "data": {
            "text/plain": [
              "       id   \n",
              "1      1    \n",
              "2      1    \n",
              "3      1    \n",
              "4      1    \n",
              "5      1    \n",
              "6      1    \n",
              "7      1    \n",
              "8      2    \n",
              "9      2    \n",
              "10     2    \n",
              "11     2    \n",
              "12     2    \n",
              "13     3    \n",
              "14     3    \n",
              "15     3    \n",
              "16     3    \n",
              "17     3    \n",
              "18     3    \n",
              "19     3    \n",
              "20     3    \n",
              "21     3    \n",
              "22     3    \n",
              "23     3    \n",
              "24     3    \n",
              "25     3    \n",
              "26     3    \n",
              "27     3    \n",
              "28     3    \n",
              "29     3    \n",
              "30     3    \n",
              "⋮      ⋮    \n",
              "108917 10552\n",
              "108918 10552\n",
              "108919 10552\n",
              "108920 10552\n",
              "108921 10552\n",
              "108922 10552\n",
              "108923 10553\n",
              "108924 10553\n",
              "108925 10553\n",
              "108926 10553\n",
              "108927 10553\n",
              "108928 10553\n",
              "108929 10553\n",
              "108930 10553\n",
              "108931 10554\n",
              "108932 10554\n",
              "108933 10554\n",
              "108934 10554\n",
              "108935 10554\n",
              "108936 10554\n",
              "108937 10554\n",
              "108938 10554\n",
              "108939 10554\n",
              "108940 10555\n",
              "108941 10555\n",
              "108942 10555\n",
              "108943 10555\n",
              "108944 10555\n",
              "108945 10555\n",
              "108946 10555\n",
              "       course_title                                                       \n",
              "1      Costing Allocations in Workday                                     \n",
              "2      Payroll Accounting Adjustments in Workday                          \n",
              "3      Workday Finance Foundation Data Model                              \n",
              "4      Workday Payroll Expenses and Commitments                           \n",
              "5      Workday: Grant Management Reporting and Analysis                   \n",
              "6      Workday: Reporting for Financial Management                        \n",
              "7      Workday: The Grant Management Dashboard for Principal Investigators\n",
              "8      Enterprise Reporting Basics                                        \n",
              "9      Workday Core Concepts                                              \n",
              "10     Workday Finance Foundation Data Model                              \n",
              "11     Workday Payroll Expenses and Commitments                           \n",
              "12     Workday: Reporting for Financial Management                        \n",
              "13     Adding Workday to Your Earnings Operation                          \n",
              "14     Approve Spend Authorizations and Expense Reports in Workday        \n",
              "15     Asset Management In Workday                                        \n",
              "16     Costing Allocations in Workday                                     \n",
              "17     Enterprise Reporting Basics                                        \n",
              "18     HR and PAY for Fiscal Staff                                        \n",
              "19     Managing Gifts in Workday                                          \n",
              "20     Payroll Accounting Adjustments in Workday                          \n",
              "21     Requesting Goods and Services: The Workday Buying Experience       \n",
              "22     Spend Authorizations and Expense Reports in Workday                \n",
              "23     Using Workday in Your Earnings Unit                                \n",
              "24     Using Workday Projects                                             \n",
              "25     Workday Core Concepts                                              \n",
              "26     Workday Finance Foundation Data Model                              \n",
              "27     Workday for Internal Service Delivery                              \n",
              "28     Workday Payroll Expenses and Commitments                           \n",
              "29     Workday: Claim on Cash and Intercompany Settlement                 \n",
              "30     Workday: General Funds Allocation                                  \n",
              "⋮      ⋮                                                                  \n",
              "108917 Workday Finance Foundation Data Model                              \n",
              "108918 Workday for Campus Managers                                        \n",
              "108919 Workday Payroll Expenses and Commitments                           \n",
              "108920 Workday: Grant Management Reporting and Analysis                   \n",
              "108921 Workday: Reporting for Financial Management                        \n",
              "108922 Workday: The Grant Management Dashboard for Principal Investigators\n",
              "108923 Costing Allocations in Workday                                     \n",
              "108924 Enterprise Reporting Basics                                        \n",
              "108925 Payroll Accounting Adjustments in Workday                          \n",
              "108926 Workday Core Concepts                                              \n",
              "108927 Workday Finance Foundation Data Model                              \n",
              "108928 Workday for Campus Managers                                        \n",
              "108929 Workday Payroll Expenses and Commitments                           \n",
              "108930 Workday: Reporting for Financial Management                        \n",
              "108931 Costing Allocations in Workday                                     \n",
              "108932 Enterprise Reporting Basics                                        \n",
              "108933 Payroll Accounting Adjustments in Workday                          \n",
              "108934 Workday Core Concepts                                              \n",
              "108935 Workday Finance Foundation Data Model                              \n",
              "108936 Workday Payroll Expenses and Commitments                           \n",
              "108937 Workday: Grant Management Reporting and Analysis                   \n",
              "108938 Workday: Reporting for Financial Management                        \n",
              "108939 Workday: The Grant Management Dashboard for Principal Investigators\n",
              "108940 Costing Allocations in Workday                                     \n",
              "108941 Payroll Accounting Adjustments in Workday                          \n",
              "108942 Workday Finance Foundation Data Model                              \n",
              "108943 Workday Payroll Expenses and Commitments                           \n",
              "108944 Workday: Grant Management Reporting and Analysis                   \n",
              "108945 Workday: Reporting for Financial Management                        \n",
              "108946 Workday: The Grant Management Dashboard for Principal Investigators\n",
              "       requirement    \n",
              "1      Recommended    \n",
              "2      Recommended    \n",
              "3      Recommended    \n",
              "4      Recommended    \n",
              "5      Recommended    \n",
              "6      Recommended    \n",
              "7      Required       \n",
              "8      Recommended    \n",
              "9      Recommended    \n",
              "10     Recommended    \n",
              "11     Recommended    \n",
              "12     Recommended    \n",
              "13     Mgr_Requirement\n",
              "14     Required       \n",
              "15     Required       \n",
              "16     Required       \n",
              "17     Required       \n",
              "18     Recommended    \n",
              "19     Required       \n",
              "20     Required       \n",
              "21     Required       \n",
              "22     Required       \n",
              "23     Mgr_Requirement\n",
              "24     Recommended    \n",
              "25     Recommended    \n",
              "26     Required       \n",
              "27     Mgr_Requirement\n",
              "28     Required       \n",
              "29     Required       \n",
              "30     Required       \n",
              "⋮      ⋮              \n",
              "108917 Recommended    \n",
              "108918 Required       \n",
              "108919 Recommended    \n",
              "108920 Recommended    \n",
              "108921 Recommended    \n",
              "108922 Required       \n",
              "108923 Recommended    \n",
              "108924 Recommended    \n",
              "108925 Recommended    \n",
              "108926 Recommended    \n",
              "108927 Recommended    \n",
              "108928 Required       \n",
              "108929 Recommended    \n",
              "108930 Recommended    \n",
              "108931 Recommended    \n",
              "108932 Required       \n",
              "108933 Recommended    \n",
              "108934 Recommended    \n",
              "108935 Recommended    \n",
              "108936 Recommended    \n",
              "108937 Recommended    \n",
              "108938 Recommended    \n",
              "108939 Recommended    \n",
              "108940 Recommended    \n",
              "108941 Recommended    \n",
              "108942 Recommended    \n",
              "108943 Recommended    \n",
              "108944 Recommended    \n",
              "108945 Recommended    \n",
              "108946 Recommended    "
            ],
            "text/latex": "A tibble: 108946 × 3\n\\begin{tabular}{lll}\n id & course\\_title & requirement\\\\\n <dbl> & <chr> & <chr>\\\\\n\\hline\n\t 1 & Costing Allocations in Workday                                      & Recommended    \\\\\n\t 1 & Payroll Accounting Adjustments in Workday                           & Recommended    \\\\\n\t 1 & Workday Finance Foundation Data Model                               & Recommended    \\\\\n\t 1 & Workday Payroll Expenses and Commitments                            & Recommended    \\\\\n\t 1 & Workday: Grant Management Reporting and Analysis                    & Recommended    \\\\\n\t 1 & Workday: Reporting for Financial Management                         & Recommended    \\\\\n\t 1 & Workday: The Grant Management Dashboard for Principal Investigators & Required       \\\\\n\t 2 & Enterprise Reporting Basics                                         & Recommended    \\\\\n\t 2 & Workday Core Concepts                                               & Recommended    \\\\\n\t 2 & Workday Finance Foundation Data Model                               & Recommended    \\\\\n\t 2 & Workday Payroll Expenses and Commitments                            & Recommended    \\\\\n\t 2 & Workday: Reporting for Financial Management                         & Recommended    \\\\\n\t 3 & Adding Workday to Your Earnings Operation                           & Mgr\\_Requirement\\\\\n\t 3 & Approve Spend Authorizations and Expense Reports in Workday         & Required       \\\\\n\t 3 & Asset Management In Workday                                         & Required       \\\\\n\t 3 & Costing Allocations in Workday                                      & Required       \\\\\n\t 3 & Enterprise Reporting Basics                                         & Required       \\\\\n\t 3 & HR and PAY for Fiscal Staff                                         & Recommended    \\\\\n\t 3 & Managing Gifts in Workday                                           & Required       \\\\\n\t 3 & Payroll Accounting Adjustments in Workday                           & Required       \\\\\n\t 3 & Requesting Goods and Services: The Workday Buying Experience        & Required       \\\\\n\t 3 & Spend Authorizations and Expense Reports in Workday                 & Required       \\\\\n\t 3 & Using Workday in Your Earnings Unit                                 & Mgr\\_Requirement\\\\\n\t 3 & Using Workday Projects                                              & Recommended    \\\\\n\t 3 & Workday Core Concepts                                               & Recommended    \\\\\n\t 3 & Workday Finance Foundation Data Model                               & Required       \\\\\n\t 3 & Workday for Internal Service Delivery                               & Mgr\\_Requirement\\\\\n\t 3 & Workday Payroll Expenses and Commitments                            & Required       \\\\\n\t 3 & Workday: Claim on Cash and Intercompany Settlement                  & Required       \\\\\n\t 3 & Workday: General Funds Allocation                                   & Required       \\\\\n\t ⋮ & ⋮ & ⋮\\\\\n\t 10552 & Workday Finance Foundation Data Model                               & Recommended\\\\\n\t 10552 & Workday for Campus Managers                                         & Required   \\\\\n\t 10552 & Workday Payroll Expenses and Commitments                            & Recommended\\\\\n\t 10552 & Workday: Grant Management Reporting and Analysis                    & Recommended\\\\\n\t 10552 & Workday: Reporting for Financial Management                         & Recommended\\\\\n\t 10552 & Workday: The Grant Management Dashboard for Principal Investigators & Required   \\\\\n\t 10553 & Costing Allocations in Workday                                      & Recommended\\\\\n\t 10553 & Enterprise Reporting Basics                                         & Recommended\\\\\n\t 10553 & Payroll Accounting Adjustments in Workday                           & Recommended\\\\\n\t 10553 & Workday Core Concepts                                               & Recommended\\\\\n\t 10553 & Workday Finance Foundation Data Model                               & Recommended\\\\\n\t 10553 & Workday for Campus Managers                                         & Required   \\\\\n\t 10553 & Workday Payroll Expenses and Commitments                            & Recommended\\\\\n\t 10553 & Workday: Reporting for Financial Management                         & Recommended\\\\\n\t 10554 & Costing Allocations in Workday                                      & Recommended\\\\\n\t 10554 & Enterprise Reporting Basics                                         & Required   \\\\\n\t 10554 & Payroll Accounting Adjustments in Workday                           & Recommended\\\\\n\t 10554 & Workday Core Concepts                                               & Recommended\\\\\n\t 10554 & Workday Finance Foundation Data Model                               & Recommended\\\\\n\t 10554 & Workday Payroll Expenses and Commitments                            & Recommended\\\\\n\t 10554 & Workday: Grant Management Reporting and Analysis                    & Recommended\\\\\n\t 10554 & Workday: Reporting for Financial Management                         & Recommended\\\\\n\t 10554 & Workday: The Grant Management Dashboard for Principal Investigators & Recommended\\\\\n\t 10555 & Costing Allocations in Workday                                      & Recommended\\\\\n\t 10555 & Payroll Accounting Adjustments in Workday                           & Recommended\\\\\n\t 10555 & Workday Finance Foundation Data Model                               & Recommended\\\\\n\t 10555 & Workday Payroll Expenses and Commitments                            & Recommended\\\\\n\t 10555 & Workday: Grant Management Reporting and Analysis                    & Recommended\\\\\n\t 10555 & Workday: Reporting for Financial Management                         & Recommended\\\\\n\t 10555 & Workday: The Grant Management Dashboard for Principal Investigators & Recommended\\\\\n\\end{tabular}\n",
            "text/markdown": "\nA tibble: 108946 × 3\n\n| id &lt;dbl&gt; | course_title &lt;chr&gt; | requirement &lt;chr&gt; |\n|---|---|---|\n| 1 | Costing Allocations in Workday                                      | Recommended     |\n| 1 | Payroll Accounting Adjustments in Workday                           | Recommended     |\n| 1 | Workday Finance Foundation Data Model                               | Recommended     |\n| 1 | Workday Payroll Expenses and Commitments                            | Recommended     |\n| 1 | Workday: Grant Management Reporting and Analysis                    | Recommended     |\n| 1 | Workday: Reporting for Financial Management                         | Recommended     |\n| 1 | Workday: The Grant Management Dashboard for Principal Investigators | Required        |\n| 2 | Enterprise Reporting Basics                                         | Recommended     |\n| 2 | Workday Core Concepts                                               | Recommended     |\n| 2 | Workday Finance Foundation Data Model                               | Recommended     |\n| 2 | Workday Payroll Expenses and Commitments                            | Recommended     |\n| 2 | Workday: Reporting for Financial Management                         | Recommended     |\n| 3 | Adding Workday to Your Earnings Operation                           | Mgr_Requirement |\n| 3 | Approve Spend Authorizations and Expense Reports in Workday         | Required        |\n| 3 | Asset Management In Workday                                         | Required        |\n| 3 | Costing Allocations in Workday                                      | Required        |\n| 3 | Enterprise Reporting Basics                                         | Required        |\n| 3 | HR and PAY for Fiscal Staff                                         | Recommended     |\n| 3 | Managing Gifts in Workday                                           | Required        |\n| 3 | Payroll Accounting Adjustments in Workday                           | Required        |\n| 3 | Requesting Goods and Services: The Workday Buying Experience        | Required        |\n| 3 | Spend Authorizations and Expense Reports in Workday                 | Required        |\n| 3 | Using Workday in Your Earnings Unit                                 | Mgr_Requirement |\n| 3 | Using Workday Projects                                              | Recommended     |\n| 3 | Workday Core Concepts                                               | Recommended     |\n| 3 | Workday Finance Foundation Data Model                               | Required        |\n| 3 | Workday for Internal Service Delivery                               | Mgr_Requirement |\n| 3 | Workday Payroll Expenses and Commitments                            | Required        |\n| 3 | Workday: Claim on Cash and Intercompany Settlement                  | Required        |\n| 3 | Workday: General Funds Allocation                                   | Required        |\n| ⋮ | ⋮ | ⋮ |\n| 10552 | Workday Finance Foundation Data Model                               | Recommended |\n| 10552 | Workday for Campus Managers                                         | Required    |\n| 10552 | Workday Payroll Expenses and Commitments                            | Recommended |\n| 10552 | Workday: Grant Management Reporting and Analysis                    | Recommended |\n| 10552 | Workday: Reporting for Financial Management                         | Recommended |\n| 10552 | Workday: The Grant Management Dashboard for Principal Investigators | Required    |\n| 10553 | Costing Allocations in Workday                                      | Recommended |\n| 10553 | Enterprise Reporting Basics                                         | Recommended |\n| 10553 | Payroll Accounting Adjustments in Workday                           | Recommended |\n| 10553 | Workday Core Concepts                                               | Recommended |\n| 10553 | Workday Finance Foundation Data Model                               | Recommended |\n| 10553 | Workday for Campus Managers                                         | Required    |\n| 10553 | Workday Payroll Expenses and Commitments                            | Recommended |\n| 10553 | Workday: Reporting for Financial Management                         | Recommended |\n| 10554 | Costing Allocations in Workday                                      | Recommended |\n| 10554 | Enterprise Reporting Basics                                         | Required    |\n| 10554 | Payroll Accounting Adjustments in Workday                           | Recommended |\n| 10554 | Workday Core Concepts                                               | Recommended |\n| 10554 | Workday Finance Foundation Data Model                               | Recommended |\n| 10554 | Workday Payroll Expenses and Commitments                            | Recommended |\n| 10554 | Workday: Grant Management Reporting and Analysis                    | Recommended |\n| 10554 | Workday: Reporting for Financial Management                         | Recommended |\n| 10554 | Workday: The Grant Management Dashboard for Principal Investigators | Recommended |\n| 10555 | Costing Allocations in Workday                                      | Recommended |\n| 10555 | Payroll Accounting Adjustments in Workday                           | Recommended |\n| 10555 | Workday Finance Foundation Data Model                               | Recommended |\n| 10555 | Workday Payroll Expenses and Commitments                            | Recommended |\n| 10555 | Workday: Grant Management Reporting and Analysis                    | Recommended |\n| 10555 | Workday: Reporting for Financial Management                         | Recommended |\n| 10555 | Workday: The Grant Management Dashboard for Principal Investigators | Recommended |\n\n",
            "text/html": [
              "<table class=\"dataframe\">\n",
              "<caption>A tibble: 108946 × 3</caption>\n",
              "<thead>\n",
              "\t<tr><th scope=col>id</th><th scope=col>course_title</th><th scope=col>requirement</th></tr>\n",
              "\t<tr><th scope=col>&lt;dbl&gt;</th><th scope=col>&lt;chr&gt;</th><th scope=col>&lt;chr&gt;</th></tr>\n",
              "</thead>\n",
              "<tbody>\n",
              "\t<tr><td>1</td><td>Costing Allocations in Workday                                     </td><td>Recommended    </td></tr>\n",
              "\t<tr><td>1</td><td>Payroll Accounting Adjustments in Workday                          </td><td>Recommended    </td></tr>\n",
              "\t<tr><td>1</td><td>Workday Finance Foundation Data Model                              </td><td>Recommended    </td></tr>\n",
              "\t<tr><td>1</td><td>Workday Payroll Expenses and Commitments                           </td><td>Recommended    </td></tr>\n",
              "\t<tr><td>1</td><td>Workday: Grant Management Reporting and Analysis                   </td><td>Recommended    </td></tr>\n",
              "\t<tr><td>1</td><td>Workday: Reporting for Financial Management                        </td><td>Recommended    </td></tr>\n",
              "\t<tr><td>1</td><td>Workday: The Grant Management Dashboard for Principal Investigators</td><td>Required       </td></tr>\n",
              "\t<tr><td>2</td><td>Enterprise Reporting Basics                                        </td><td>Recommended    </td></tr>\n",
              "\t<tr><td>2</td><td>Workday Core Concepts                                              </td><td>Recommended    </td></tr>\n",
              "\t<tr><td>2</td><td>Workday Finance Foundation Data Model                              </td><td>Recommended    </td></tr>\n",
              "\t<tr><td>2</td><td>Workday Payroll Expenses and Commitments                           </td><td>Recommended    </td></tr>\n",
              "\t<tr><td>2</td><td>Workday: Reporting for Financial Management                        </td><td>Recommended    </td></tr>\n",
              "\t<tr><td>3</td><td>Adding Workday to Your Earnings Operation                          </td><td>Mgr_Requirement</td></tr>\n",
              "\t<tr><td>3</td><td>Approve Spend Authorizations and Expense Reports in Workday        </td><td>Required       </td></tr>\n",
              "\t<tr><td>3</td><td>Asset Management In Workday                                        </td><td>Required       </td></tr>\n",
              "\t<tr><td>3</td><td>Costing Allocations in Workday                                     </td><td>Required       </td></tr>\n",
              "\t<tr><td>3</td><td>Enterprise Reporting Basics                                        </td><td>Required       </td></tr>\n",
              "\t<tr><td>3</td><td>HR and PAY for Fiscal Staff                                        </td><td>Recommended    </td></tr>\n",
              "\t<tr><td>3</td><td>Managing Gifts in Workday                                          </td><td>Required       </td></tr>\n",
              "\t<tr><td>3</td><td>Payroll Accounting Adjustments in Workday                          </td><td>Required       </td></tr>\n",
              "\t<tr><td>3</td><td>Requesting Goods and Services: The Workday Buying Experience       </td><td>Required       </td></tr>\n",
              "\t<tr><td>3</td><td>Spend Authorizations and Expense Reports in Workday                </td><td>Required       </td></tr>\n",
              "\t<tr><td>3</td><td>Using Workday in Your Earnings Unit                                </td><td>Mgr_Requirement</td></tr>\n",
              "\t<tr><td>3</td><td>Using Workday Projects                                             </td><td>Recommended    </td></tr>\n",
              "\t<tr><td>3</td><td>Workday Core Concepts                                              </td><td>Recommended    </td></tr>\n",
              "\t<tr><td>3</td><td>Workday Finance Foundation Data Model                              </td><td>Required       </td></tr>\n",
              "\t<tr><td>3</td><td>Workday for Internal Service Delivery                              </td><td>Mgr_Requirement</td></tr>\n",
              "\t<tr><td>3</td><td>Workday Payroll Expenses and Commitments                           </td><td>Required       </td></tr>\n",
              "\t<tr><td>3</td><td>Workday: Claim on Cash and Intercompany Settlement                 </td><td>Required       </td></tr>\n",
              "\t<tr><td>3</td><td>Workday: General Funds Allocation                                  </td><td>Required       </td></tr>\n",
              "\t<tr><td>⋮</td><td>⋮</td><td>⋮</td></tr>\n",
              "\t<tr><td>10552</td><td>Workday Finance Foundation Data Model                              </td><td>Recommended</td></tr>\n",
              "\t<tr><td>10552</td><td>Workday for Campus Managers                                        </td><td>Required   </td></tr>\n",
              "\t<tr><td>10552</td><td>Workday Payroll Expenses and Commitments                           </td><td>Recommended</td></tr>\n",
              "\t<tr><td>10552</td><td>Workday: Grant Management Reporting and Analysis                   </td><td>Recommended</td></tr>\n",
              "\t<tr><td>10552</td><td>Workday: Reporting for Financial Management                        </td><td>Recommended</td></tr>\n",
              "\t<tr><td>10552</td><td>Workday: The Grant Management Dashboard for Principal Investigators</td><td>Required   </td></tr>\n",
              "\t<tr><td>10553</td><td>Costing Allocations in Workday                                     </td><td>Recommended</td></tr>\n",
              "\t<tr><td>10553</td><td>Enterprise Reporting Basics                                        </td><td>Recommended</td></tr>\n",
              "\t<tr><td>10553</td><td>Payroll Accounting Adjustments in Workday                          </td><td>Recommended</td></tr>\n",
              "\t<tr><td>10553</td><td>Workday Core Concepts                                              </td><td>Recommended</td></tr>\n",
              "\t<tr><td>10553</td><td>Workday Finance Foundation Data Model                              </td><td>Recommended</td></tr>\n",
              "\t<tr><td>10553</td><td>Workday for Campus Managers                                        </td><td>Required   </td></tr>\n",
              "\t<tr><td>10553</td><td>Workday Payroll Expenses and Commitments                           </td><td>Recommended</td></tr>\n",
              "\t<tr><td>10553</td><td>Workday: Reporting for Financial Management                        </td><td>Recommended</td></tr>\n",
              "\t<tr><td>10554</td><td>Costing Allocations in Workday                                     </td><td>Recommended</td></tr>\n",
              "\t<tr><td>10554</td><td>Enterprise Reporting Basics                                        </td><td>Required   </td></tr>\n",
              "\t<tr><td>10554</td><td>Payroll Accounting Adjustments in Workday                          </td><td>Recommended</td></tr>\n",
              "\t<tr><td>10554</td><td>Workday Core Concepts                                              </td><td>Recommended</td></tr>\n",
              "\t<tr><td>10554</td><td>Workday Finance Foundation Data Model                              </td><td>Recommended</td></tr>\n",
              "\t<tr><td>10554</td><td>Workday Payroll Expenses and Commitments                           </td><td>Recommended</td></tr>\n",
              "\t<tr><td>10554</td><td>Workday: Grant Management Reporting and Analysis                   </td><td>Recommended</td></tr>\n",
              "\t<tr><td>10554</td><td>Workday: Reporting for Financial Management                        </td><td>Recommended</td></tr>\n",
              "\t<tr><td>10554</td><td>Workday: The Grant Management Dashboard for Principal Investigators</td><td>Recommended</td></tr>\n",
              "\t<tr><td>10555</td><td>Costing Allocations in Workday                                     </td><td>Recommended</td></tr>\n",
              "\t<tr><td>10555</td><td>Payroll Accounting Adjustments in Workday                          </td><td>Recommended</td></tr>\n",
              "\t<tr><td>10555</td><td>Workday Finance Foundation Data Model                              </td><td>Recommended</td></tr>\n",
              "\t<tr><td>10555</td><td>Workday Payroll Expenses and Commitments                           </td><td>Recommended</td></tr>\n",
              "\t<tr><td>10555</td><td>Workday: Grant Management Reporting and Analysis                   </td><td>Recommended</td></tr>\n",
              "\t<tr><td>10555</td><td>Workday: Reporting for Financial Management                        </td><td>Recommended</td></tr>\n",
              "\t<tr><td>10555</td><td>Workday: The Grant Management Dashboard for Principal Investigators</td><td>Recommended</td></tr>\n",
              "</tbody>\n",
              "</table>\n"
            ]
          },
          "metadata": {}
        }
      ]
    },
    {
      "cell_type": "code",
      "source": [
        "# per analysis above, keep both the 'training title' and 'course title'\n",
        "# but given the assumption that 'division_completion' and 'dep_id_completion'\n",
        "# are already present in the profile dataset, drop them\n",
        "completion_final <- completion_renamed %>%\n",
        "select(-c(division_completion, dep_id_completion)) %>%\n",
        "distinct()"
      ],
      "metadata": {
        "id": "NgedT42WA3zP"
      },
      "execution_count": null,
      "outputs": []
    },
    {
      "cell_type": "code",
      "source": [
        "# quick check at the cleaned dataframed before joining\n",
        "str(profile_final)\n",
        "str(assignment_final)\n",
        "str(completion_final)"
      ],
      "metadata": {
        "colab": {
          "base_uri": "https://localhost:8080/"
        },
        "id": "LD6srVicB6QF",
        "outputId": "8d195893-c4e9-4e3f-c851-0581a097e2b3"
      },
      "execution_count": null,
      "outputs": [
        {
          "output_type": "stream",
          "name": "stdout",
          "text": [
            "tibble [10,718 × 3] (S3: tbl_df/tbl/data.frame)\n",
            " $ id      : num [1:10718] 1 2 3 4 5 6 7 8 9 10 ...\n",
            " $ division: chr [1:10718] \"Veterinary Medicine\" \"Human Resources\" \"Administration and Planning\" \"Engineering\" ...\n",
            " $ dep_id  : chr [1:10718] \"Veterinary Medicine | Veterinary Clinical Sciences\" \"Human Resources | Strategic Initiatives\" \"Administration and Planning | Finance\" \"Engineering | Materials Science and Engineering\" ...\n",
            "tibble [110,269 × 3] (S3: tbl_df/tbl/data.frame)\n",
            " $ id          : num [1:110269] 1 1 1 1 1 1 1 1 1 2 ...\n",
            " $ course_title: chr [1:110269] \"Costing Allocations in Workday\" \"Enterprise Reporting Basics\" \"Payroll Accounting Adjustments in Workday\" \"Workday Core Concepts\" ...\n",
            " $ requirement : chr [1:110269] \"Recommended\" \"Required\" \"Recommended\" \"Recommended\" ...\n",
            "tibble [38,380 × 4] (S3: tbl_df/tbl/data.frame)\n",
            " $ id            : num [1:38380] 1 2 2 2 2 2 3 3 3 3 ...\n",
            " $ training_title: chr [1:38380] \"Workday: The Grant Management Dashboard for Principal Investigators\" \"Enterprise Reporting Basics\" \"HR Consultants: Campus Manager Role in Workday\" \"Workday Core Concepts\" ...\n",
            " $ training_type : chr [1:38380] \"Event\" \"Online Class\" \"Curriculum\" \"Online Class\" ...\n",
            " $ status        : chr [1:38380] \"Registered\" \"Completed\" \"Complete\" \"Completed\" ...\n"
          ]
        }
      ]
    },
    {
      "cell_type": "code",
      "source": [
        "# merge the 3 datasets\n",
        "df <- left_join(completion_final, assignment_final, by=c(\"id\"=\"id\", \"training_title\"=\"course_title\"))\n",
        "df <- left_join(df, profile_final, by =\"id\")"
      ],
      "metadata": {
        "id": "Gz9vnk03CDVE"
      },
      "execution_count": null,
      "outputs": []
    },
    {
      "cell_type": "code",
      "source": [
        "# re-arrange the columns\n",
        "df_final <- df[, c(1, 6, 7, 2, 3, 5, 4)]\n",
        "str(df_final)\n",
        "head(df_final)"
      ],
      "metadata": {
        "colab": {
          "base_uri": "https://localhost:8080/",
          "height": 567
        },
        "id": "k-G_CZhdDOX6",
        "outputId": "6eb12205-7b25-42c9-b780-9011946c4416"
      },
      "execution_count": null,
      "outputs": [
        {
          "output_type": "stream",
          "name": "stdout",
          "text": [
            "tibble [38,978 × 7] (S3: tbl_df/tbl/data.frame)\n",
            " $ id            : num [1:38978] 1 2 2 2 2 2 3 3 3 3 ...\n",
            " $ division      : chr [1:38978] \"Veterinary Medicine\" \"Human Resources\" \"Human Resources\" \"Human Resources\" ...\n",
            " $ dep_id        : chr [1:38978] \"Veterinary Medicine | Veterinary Clinical Sciences\" \"Human Resources | Strategic Initiatives\" \"Human Resources | Strategic Initiatives\" \"Human Resources | Strategic Initiatives\" ...\n",
            " $ training_title: chr [1:38978] \"Workday: The Grant Management Dashboard for Principal Investigators\" \"Enterprise Reporting Basics\" \"HR Consultants: Campus Manager Role in Workday\" \"Workday Core Concepts\" ...\n",
            " $ training_type : chr [1:38978] \"Event\" \"Online Class\" \"Curriculum\" \"Online Class\" ...\n",
            " $ requirement   : chr [1:38978] \"Required\" \"Recommended\" NA \"Recommended\" ...\n",
            " $ status        : chr [1:38978] \"Registered\" \"Completed\" \"Complete\" \"Completed\" ...\n"
          ]
        },
        {
          "output_type": "display_data",
          "data": {
            "text/plain": [
              "  id division            dep_id                                            \n",
              "1 1  Veterinary Medicine Veterinary Medicine | Veterinary Clinical Sciences\n",
              "2 2  Human Resources     Human Resources | Strategic Initiatives           \n",
              "3 2  Human Resources     Human Resources | Strategic Initiatives           \n",
              "4 2  Human Resources     Human Resources | Strategic Initiatives           \n",
              "5 2  Human Resources     Human Resources | Strategic Initiatives           \n",
              "6 2  Human Resources     Human Resources | Strategic Initiatives           \n",
              "  training_title                                                     \n",
              "1 Workday: The Grant Management Dashboard for Principal Investigators\n",
              "2 Enterprise Reporting Basics                                        \n",
              "3 HR Consultants: Campus Manager Role in Workday                     \n",
              "4 Workday Core Concepts                                              \n",
              "5 Workday for Human Resources (HR) Consultants                       \n",
              "6 Workday: Academic Appointments                                     \n",
              "  training_type requirement status    \n",
              "1 Event         Required    Registered\n",
              "2 Online Class  Recommended Completed \n",
              "3 Curriculum    NA          Complete  \n",
              "4 Online Class  Recommended Completed \n",
              "5 Curriculum    NA          Complete  \n",
              "6 Curriculum    NA          Complete  "
            ],
            "text/latex": "A tibble: 6 × 7\n\\begin{tabular}{lllllll}\n id & division & dep\\_id & training\\_title & training\\_type & requirement & status\\\\\n <dbl> & <chr> & <chr> & <chr> & <chr> & <chr> & <chr>\\\\\n\\hline\n\t 1 & Veterinary Medicine & Veterinary Medicine \\textbar{} Veterinary Clinical Sciences & Workday: The Grant Management Dashboard for Principal Investigators & Event        & Required    & Registered\\\\\n\t 2 & Human Resources     & Human Resources \\textbar{} Strategic Initiatives            & Enterprise Reporting Basics                                         & Online Class & Recommended & Completed \\\\\n\t 2 & Human Resources     & Human Resources \\textbar{} Strategic Initiatives            & HR Consultants: Campus Manager Role in Workday                      & Curriculum   & NA          & Complete  \\\\\n\t 2 & Human Resources     & Human Resources \\textbar{} Strategic Initiatives            & Workday Core Concepts                                               & Online Class & Recommended & Completed \\\\\n\t 2 & Human Resources     & Human Resources \\textbar{} Strategic Initiatives            & Workday for Human Resources (HR) Consultants                        & Curriculum   & NA          & Complete  \\\\\n\t 2 & Human Resources     & Human Resources \\textbar{} Strategic Initiatives            & Workday: Academic Appointments                                      & Curriculum   & NA          & Complete  \\\\\n\\end{tabular}\n",
            "text/markdown": "\nA tibble: 6 × 7\n\n| id &lt;dbl&gt; | division &lt;chr&gt; | dep_id &lt;chr&gt; | training_title &lt;chr&gt; | training_type &lt;chr&gt; | requirement &lt;chr&gt; | status &lt;chr&gt; |\n|---|---|---|---|---|---|---|\n| 1 | Veterinary Medicine | Veterinary Medicine | Veterinary Clinical Sciences | Workday: The Grant Management Dashboard for Principal Investigators | Event        | Required    | Registered |\n| 2 | Human Resources     | Human Resources | Strategic Initiatives            | Enterprise Reporting Basics                                         | Online Class | Recommended | Completed  |\n| 2 | Human Resources     | Human Resources | Strategic Initiatives            | HR Consultants: Campus Manager Role in Workday                      | Curriculum   | NA          | Complete   |\n| 2 | Human Resources     | Human Resources | Strategic Initiatives            | Workday Core Concepts                                               | Online Class | Recommended | Completed  |\n| 2 | Human Resources     | Human Resources | Strategic Initiatives            | Workday for Human Resources (HR) Consultants                        | Curriculum   | NA          | Complete   |\n| 2 | Human Resources     | Human Resources | Strategic Initiatives            | Workday: Academic Appointments                                      | Curriculum   | NA          | Complete   |\n\n",
            "text/html": [
              "<table class=\"dataframe\">\n",
              "<caption>A tibble: 6 × 7</caption>\n",
              "<thead>\n",
              "\t<tr><th scope=col>id</th><th scope=col>division</th><th scope=col>dep_id</th><th scope=col>training_title</th><th scope=col>training_type</th><th scope=col>requirement</th><th scope=col>status</th></tr>\n",
              "\t<tr><th scope=col>&lt;dbl&gt;</th><th scope=col>&lt;chr&gt;</th><th scope=col>&lt;chr&gt;</th><th scope=col>&lt;chr&gt;</th><th scope=col>&lt;chr&gt;</th><th scope=col>&lt;chr&gt;</th><th scope=col>&lt;chr&gt;</th></tr>\n",
              "</thead>\n",
              "<tbody>\n",
              "\t<tr><td>1</td><td>Veterinary Medicine</td><td>Veterinary Medicine | Veterinary Clinical Sciences</td><td>Workday: The Grant Management Dashboard for Principal Investigators</td><td>Event       </td><td>Required   </td><td>Registered</td></tr>\n",
              "\t<tr><td>2</td><td>Human Resources    </td><td>Human Resources | Strategic Initiatives           </td><td>Enterprise Reporting Basics                                        </td><td>Online Class</td><td>Recommended</td><td>Completed </td></tr>\n",
              "\t<tr><td>2</td><td>Human Resources    </td><td>Human Resources | Strategic Initiatives           </td><td>HR Consultants: Campus Manager Role in Workday                     </td><td>Curriculum  </td><td>NA         </td><td>Complete  </td></tr>\n",
              "\t<tr><td>2</td><td>Human Resources    </td><td>Human Resources | Strategic Initiatives           </td><td>Workday Core Concepts                                              </td><td>Online Class</td><td>Recommended</td><td>Completed </td></tr>\n",
              "\t<tr><td>2</td><td>Human Resources    </td><td>Human Resources | Strategic Initiatives           </td><td>Workday for Human Resources (HR) Consultants                       </td><td>Curriculum  </td><td>NA         </td><td>Complete  </td></tr>\n",
              "\t<tr><td>2</td><td>Human Resources    </td><td>Human Resources | Strategic Initiatives           </td><td>Workday: Academic Appointments                                     </td><td>Curriculum  </td><td>NA         </td><td>Complete  </td></tr>\n",
              "</tbody>\n",
              "</table>\n"
            ]
          },
          "metadata": {}
        }
      ]
    },
    {
      "cell_type": "code",
      "source": [
        ""
      ],
      "metadata": {
        "id": "yQP7-uwDEmjq"
      },
      "execution_count": null,
      "outputs": []
    },
    {
      "cell_type": "markdown",
      "source": [
        "-- </br>\n",
        "*End of the document*"
      ],
      "metadata": {
        "id": "ybenjo12EnxG"
      }
    }
  ]
}